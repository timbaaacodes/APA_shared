{
  "nbformat": 4,
  "nbformat_minor": 0,
  "metadata": {
    "colab": {
      "provenance": [],
      "machine_shape": "hm",
      "gpuType": "A100"
    },
    "kernelspec": {
      "name": "python3",
      "display_name": "Python 3"
    },
    "language_info": {
      "name": "python"
    },
    "accelerator": "GPU"
  },
  "cells": [
    {
      "cell_type": "markdown",
      "source": [
        "# Emotion Analysis"
      ],
      "metadata": {
        "id": "qHVmVUSj0ywE"
      }
    },
    {
      "cell_type": "markdown",
      "source": [
        "Import the datasets needed, in our case, Goemotions"
      ],
      "metadata": {
        "id": "fUVNWZKu03bA"
      }
    },
    {
      "cell_type": "code",
      "source": [
        "from google.colab import files\n",
        "import pandas as pd\n",
        "from sklearn.model_selection import train_test_split\n",
        "import tensorflow as tf\n",
        "import matplotlib.pyplot as plt\n",
        "import numpy as np\n",
        "from sklearn.metrics import roc_auc_score\n",
        "from tensorflow.keras.metrics import AUC\n",
        "from tensorflow.keras.layers import TextVectorization\n",
        "from tensorflow import keras\n",
        "from tensorflow.keras import layers, Model\n",
        "import tensorflow_datasets as tfds\n",
        "from tensorflow.keras.optimizers import Adam\n",
        "import keras_nlp"
      ],
      "metadata": {
        "id": "Bwkj4YGb1CuS"
      },
      "execution_count": null,
      "outputs": []
    },
    {
      "cell_type": "code",
      "execution_count": 1,
      "metadata": {
        "colab": {
          "base_uri": "https://localhost:8080/",
          "height": 144
        },
        "id": "DOxxCv4tBZXY",
        "outputId": "d11944a3-97d9-43f4-b39c-3dd467347236"
      },
      "outputs": [
        {
          "output_type": "display_data",
          "data": {
            "text/plain": [
              "<IPython.core.display.HTML object>"
            ],
            "text/html": [
              "\n",
              "     <input type=\"file\" id=\"files-5564a0bb-f49a-4745-a3b7-75dab25512da\" name=\"files[]\" multiple disabled\n",
              "        style=\"border:none\" />\n",
              "     <output id=\"result-5564a0bb-f49a-4745-a3b7-75dab25512da\">\n",
              "      Upload widget is only available when the cell has been executed in the\n",
              "      current browser session. Please rerun this cell to enable.\n",
              "      </output>\n",
              "      <script>// Copyright 2017 Google LLC\n",
              "//\n",
              "// Licensed under the Apache License, Version 2.0 (the \"License\");\n",
              "// you may not use this file except in compliance with the License.\n",
              "// You may obtain a copy of the License at\n",
              "//\n",
              "//      http://www.apache.org/licenses/LICENSE-2.0\n",
              "//\n",
              "// Unless required by applicable law or agreed to in writing, software\n",
              "// distributed under the License is distributed on an \"AS IS\" BASIS,\n",
              "// WITHOUT WARRANTIES OR CONDITIONS OF ANY KIND, either express or implied.\n",
              "// See the License for the specific language governing permissions and\n",
              "// limitations under the License.\n",
              "\n",
              "/**\n",
              " * @fileoverview Helpers for google.colab Python module.\n",
              " */\n",
              "(function(scope) {\n",
              "function span(text, styleAttributes = {}) {\n",
              "  const element = document.createElement('span');\n",
              "  element.textContent = text;\n",
              "  for (const key of Object.keys(styleAttributes)) {\n",
              "    element.style[key] = styleAttributes[key];\n",
              "  }\n",
              "  return element;\n",
              "}\n",
              "\n",
              "// Max number of bytes which will be uploaded at a time.\n",
              "const MAX_PAYLOAD_SIZE = 100 * 1024;\n",
              "\n",
              "function _uploadFiles(inputId, outputId) {\n",
              "  const steps = uploadFilesStep(inputId, outputId);\n",
              "  const outputElement = document.getElementById(outputId);\n",
              "  // Cache steps on the outputElement to make it available for the next call\n",
              "  // to uploadFilesContinue from Python.\n",
              "  outputElement.steps = steps;\n",
              "\n",
              "  return _uploadFilesContinue(outputId);\n",
              "}\n",
              "\n",
              "// This is roughly an async generator (not supported in the browser yet),\n",
              "// where there are multiple asynchronous steps and the Python side is going\n",
              "// to poll for completion of each step.\n",
              "// This uses a Promise to block the python side on completion of each step,\n",
              "// then passes the result of the previous step as the input to the next step.\n",
              "function _uploadFilesContinue(outputId) {\n",
              "  const outputElement = document.getElementById(outputId);\n",
              "  const steps = outputElement.steps;\n",
              "\n",
              "  const next = steps.next(outputElement.lastPromiseValue);\n",
              "  return Promise.resolve(next.value.promise).then((value) => {\n",
              "    // Cache the last promise value to make it available to the next\n",
              "    // step of the generator.\n",
              "    outputElement.lastPromiseValue = value;\n",
              "    return next.value.response;\n",
              "  });\n",
              "}\n",
              "\n",
              "/**\n",
              " * Generator function which is called between each async step of the upload\n",
              " * process.\n",
              " * @param {string} inputId Element ID of the input file picker element.\n",
              " * @param {string} outputId Element ID of the output display.\n",
              " * @return {!Iterable<!Object>} Iterable of next steps.\n",
              " */\n",
              "function* uploadFilesStep(inputId, outputId) {\n",
              "  const inputElement = document.getElementById(inputId);\n",
              "  inputElement.disabled = false;\n",
              "\n",
              "  const outputElement = document.getElementById(outputId);\n",
              "  outputElement.innerHTML = '';\n",
              "\n",
              "  const pickedPromise = new Promise((resolve) => {\n",
              "    inputElement.addEventListener('change', (e) => {\n",
              "      resolve(e.target.files);\n",
              "    });\n",
              "  });\n",
              "\n",
              "  const cancel = document.createElement('button');\n",
              "  inputElement.parentElement.appendChild(cancel);\n",
              "  cancel.textContent = 'Cancel upload';\n",
              "  const cancelPromise = new Promise((resolve) => {\n",
              "    cancel.onclick = () => {\n",
              "      resolve(null);\n",
              "    };\n",
              "  });\n",
              "\n",
              "  // Wait for the user to pick the files.\n",
              "  const files = yield {\n",
              "    promise: Promise.race([pickedPromise, cancelPromise]),\n",
              "    response: {\n",
              "      action: 'starting',\n",
              "    }\n",
              "  };\n",
              "\n",
              "  cancel.remove();\n",
              "\n",
              "  // Disable the input element since further picks are not allowed.\n",
              "  inputElement.disabled = true;\n",
              "\n",
              "  if (!files) {\n",
              "    return {\n",
              "      response: {\n",
              "        action: 'complete',\n",
              "      }\n",
              "    };\n",
              "  }\n",
              "\n",
              "  for (const file of files) {\n",
              "    const li = document.createElement('li');\n",
              "    li.append(span(file.name, {fontWeight: 'bold'}));\n",
              "    li.append(span(\n",
              "        `(${file.type || 'n/a'}) - ${file.size} bytes, ` +\n",
              "        `last modified: ${\n",
              "            file.lastModifiedDate ? file.lastModifiedDate.toLocaleDateString() :\n",
              "                                    'n/a'} - `));\n",
              "    const percent = span('0% done');\n",
              "    li.appendChild(percent);\n",
              "\n",
              "    outputElement.appendChild(li);\n",
              "\n",
              "    const fileDataPromise = new Promise((resolve) => {\n",
              "      const reader = new FileReader();\n",
              "      reader.onload = (e) => {\n",
              "        resolve(e.target.result);\n",
              "      };\n",
              "      reader.readAsArrayBuffer(file);\n",
              "    });\n",
              "    // Wait for the data to be ready.\n",
              "    let fileData = yield {\n",
              "      promise: fileDataPromise,\n",
              "      response: {\n",
              "        action: 'continue',\n",
              "      }\n",
              "    };\n",
              "\n",
              "    // Use a chunked sending to avoid message size limits. See b/62115660.\n",
              "    let position = 0;\n",
              "    do {\n",
              "      const length = Math.min(fileData.byteLength - position, MAX_PAYLOAD_SIZE);\n",
              "      const chunk = new Uint8Array(fileData, position, length);\n",
              "      position += length;\n",
              "\n",
              "      const base64 = btoa(String.fromCharCode.apply(null, chunk));\n",
              "      yield {\n",
              "        response: {\n",
              "          action: 'append',\n",
              "          file: file.name,\n",
              "          data: base64,\n",
              "        },\n",
              "      };\n",
              "\n",
              "      let percentDone = fileData.byteLength === 0 ?\n",
              "          100 :\n",
              "          Math.round((position / fileData.byteLength) * 100);\n",
              "      percent.textContent = `${percentDone}% done`;\n",
              "\n",
              "    } while (position < fileData.byteLength);\n",
              "  }\n",
              "\n",
              "  // All done.\n",
              "  yield {\n",
              "    response: {\n",
              "      action: 'complete',\n",
              "    }\n",
              "  };\n",
              "}\n",
              "\n",
              "scope.google = scope.google || {};\n",
              "scope.google.colab = scope.google.colab || {};\n",
              "scope.google.colab._files = {\n",
              "  _uploadFiles,\n",
              "  _uploadFilesContinue,\n",
              "};\n",
              "})(self);\n",
              "</script> "
            ]
          },
          "metadata": {}
        },
        {
          "output_type": "stream",
          "name": "stdout",
          "text": [
            "Saving goemotions_1.csv to goemotions_1.csv\n",
            "Saving goemotions_2.csv to goemotions_2.csv\n",
            "Saving goemotions_3.csv to goemotions_3.csv\n"
          ]
        }
      ],
      "source": [
        "uploaded = files.upload()"
      ]
    },
    {
      "cell_type": "code",
      "source": [
        "df_1 = pd.read_csv(\"goemotions_1.csv\")\n",
        "df_2 = pd.read_csv(\"goemotions_2.csv\")\n",
        "df_3 = pd.read_csv(\"goemotions_3.csv\")\n",
        "\n",
        "df_1_n = df_1.drop(columns=['id', 'author', 'subreddit', 'link_id', 'parent_id', 'created_utc', 'rater_id', 'example_very_unclear'])\n",
        "df_2_n = df_2.drop(columns=['id', 'author', 'subreddit', 'link_id', 'parent_id', 'created_utc', 'rater_id', 'example_very_unclear'])\n",
        "df_3_n = df_3.drop(columns=['id', 'author', 'subreddit', 'link_id', 'parent_id', 'created_utc', 'rater_id', 'example_very_unclear'])\n",
        "\n",
        "df_all = pd.concat([df_1_n, df_2_n], ignore_index=True)"
      ],
      "metadata": {
        "id": "H6b2JPYkBlbx"
      },
      "execution_count": 1,
      "outputs": []
    },
    {
      "cell_type": "markdown",
      "source": [
        "Because of the high volume of data, just the first two datasets will be used to train the model, with the last used to test"
      ],
      "metadata": {
        "id": "VGXPvPeV1ICZ"
      }
    },
    {
      "cell_type": "code",
      "source": [
        "train_ds, val_ds = train_test_split(df_all, test_size=0.2)\n",
        "test_ds = df_3_n\n",
        "\n",
        "print(train_ds.shape)\n",
        "print(val_ds.shape)\n",
        "print(test_ds.shape)"
      ],
      "metadata": {
        "colab": {
          "base_uri": "https://localhost:8080/"
        },
        "id": "EsH8jiDZCiyi",
        "outputId": "56ab5b41-1b19-4437-f4f3-57c3f3038885"
      },
      "execution_count": 4,
      "outputs": [
        {
          "output_type": "stream",
          "name": "stdout",
          "text": [
            "(112000, 29)\n",
            "(28000, 29)\n",
            "(71225, 29)\n"
          ]
        }
      ]
    },
    {
      "cell_type": "markdown",
      "source": [
        "## Emotion Count\n",
        "\n",
        "Checking if the dataset is balanced or not"
      ],
      "metadata": {
        "id": "SL5nyn301V6d"
      }
    },
    {
      "source": [
        "# List of GoEmotions labels\n",
        "emotion_labels = [\n",
        "    \"admiration\", \"amusement\", \"anger\", \"annoyance\", \"approval\", \"caring\", \"confusion\",\n",
        "    \"curiosity\", \"desire\", \"disappointment\", \"disapproval\", \"disgust\", \"embarrassment\",\n",
        "    \"excitement\", \"fear\", \"gratitude\", \"grief\", \"joy\", \"love\", \"nervousness\",\n",
        "    \"optimism\", \"pride\", \"realization\", \"relief\", \"remorse\", \"sadness\", \"surprise\", \"neutral\"\n",
        "]\n",
        "\n",
        "# Count emotion occurrences from the dataset\n",
        "emotion_counts = tf.zeros([28], dtype=tf.int32)\n",
        "\n",
        "# Iterate through the DataFrame using iterrows()\n",
        "for _, row in train_ds.iterrows():\n",
        "    labels = row.drop('text').values  # Assuming 'text' is the text column\n",
        "    # Convert the labels to NumPy int type before casting to tf.int32\n",
        "    labels = labels.astype(np.int32)\n",
        "    emotion_counts += tf.cast(labels, tf.int32)\n",
        "\n",
        "# Convert to numpy\n",
        "emotion_counts = emotion_counts.numpy()\n",
        "\n",
        "plt.figure(figsize=(14, 6))\n",
        "plt.bar(emotion_labels, emotion_counts, color=\"skyblue\")\n",
        "plt.xticks(rotation=90)\n",
        "plt.title(\"Emotion Frequencies in Dataset\")\n",
        "plt.xlabel(\"Emotion\")\n",
        "plt.ylabel(\"Count\")\n",
        "plt.tight_layout()\n",
        "plt.grid(axis='y', linestyle='--', alpha=0.7)\n",
        "plt.show()"
      ],
      "cell_type": "code",
      "metadata": {
        "colab": {
          "base_uri": "https://localhost:8080/",
          "height": 576
        },
        "id": "6xYRF5vFZAhR",
        "outputId": "19300639-58a7-4e7a-eed1-6029147accc6"
      },
      "execution_count": null,
      "outputs": [
        {
          "output_type": "display_data",
          "data": {
            "text/plain": [
              "<Figure size 1400x600 with 1 Axes>"
            ],
            "image/png": "[encoded data removed]"
          },
          "metadata": {}
        }
      ]
    },
    {
      "cell_type": "code",
      "source": [
        "# Create a DataFrame from the emotion labels and counts\n",
        "summary_df = pd.DataFrame({'Emotion': emotion_labels, 'Count': emotion_counts})\n",
        "\n",
        "summary_df"
      ],
      "metadata": {
        "colab": {
          "base_uri": "https://localhost:8080/",
          "height": 927
        },
        "id": "RGcwnLB3ZJzk",
        "outputId": "88046ef6-d2d9-46b0-a3bb-d0c26dda674b"
      },
      "execution_count": null,
      "outputs": [
        {
          "output_type": "execute_result",
          "data": {
            "text/plain": [
              "           Emotion  Count\n",
              "0       admiration   6411\n",
              "1        amusement   3373\n",
              "2            anger   2999\n",
              "3        annoyance   5030\n",
              "4         approval   6532\n",
              "5           caring   2148\n",
              "6        confusion   2737\n",
              "7        curiosity   3566\n",
              "8           desire   1428\n",
              "9   disappointment   3156\n",
              "10     disapproval   4265\n",
              "11         disgust   1910\n",
              "12   embarrassment    964\n",
              "13      excitement   2096\n",
              "14            fear   1179\n",
              "15       gratitude   4201\n",
              "16           grief    252\n",
              "17             joy   2977\n",
              "18            love   3072\n",
              "19     nervousness    681\n",
              "20        optimism   3325\n",
              "21           pride    496\n",
              "22     realization   3270\n",
              "23          relief    491\n",
              "24         remorse    968\n",
              "25         sadness   2463\n",
              "26        surprise   2069\n",
              "27         neutral  20590"
            ],
            "text/html": [
              "\n",
              "  <div id=\"df-bb9d4e4d-5881-45f6-9713-92201cbf952b\" class=\"colab-df-container\">\n",
              "    <div>\n",
              "<style scoped>\n",
              "    .dataframe tbody tr th:only-of-type {\n",
              "        vertical-align: middle;\n",
              "    }\n",
              "\n",
              "    .dataframe tbody tr th {\n",
              "        vertical-align: top;\n",
              "    }\n",
              "\n",
              "    .dataframe thead th {\n",
              "        text-align: right;\n",
              "    }\n",
              "</style>\n",
              "<table border=\"1\" class=\"dataframe\">\n",
              "  <thead>\n",
              "    <tr style=\"text-align: right;\">\n",
              "      <th></th>\n",
              "      <th>Emotion</th>\n",
              "      <th>Count</th>\n",
              "    </tr>\n",
              "  </thead>\n",
              "  <tbody>\n",
              "    <tr>\n",
              "      <th>0</th>\n",
              "      <td>admiration</td>\n",
              "      <td>6411</td>\n",
              "    </tr>\n",
              "    <tr>\n",
              "      <th>1</th>\n",
              "      <td>amusement</td>\n",
              "      <td>3373</td>\n",
              "    </tr>\n",
              "    <tr>\n",
              "      <th>2</th>\n",
              "      <td>anger</td>\n",
              "      <td>2999</td>\n",
              "    </tr>\n",
              "    <tr>\n",
              "      <th>3</th>\n",
              "      <td>annoyance</td>\n",
              "      <td>5030</td>\n",
              "    </tr>\n",
              "    <tr>\n",
              "      <th>4</th>\n",
              "      <td>approval</td>\n",
              "      <td>6532</td>\n",
              "    </tr>\n",
              "    <tr>\n",
              "      <th>5</th>\n",
              "      <td>caring</td>\n",
              "      <td>2148</td>\n",
              "    </tr>\n",
              "    <tr>\n",
              "      <th>6</th>\n",
              "      <td>confusion</td>\n",
              "      <td>2737</td>\n",
              "    </tr>\n",
              "    <tr>\n",
              "      <th>7</th>\n",
              "      <td>curiosity</td>\n",
              "      <td>3566</td>\n",
              "    </tr>\n",
              "    <tr>\n",
              "      <th>8</th>\n",
              "      <td>desire</td>\n",
              "      <td>1428</td>\n",
              "    </tr>\n",
              "    <tr>\n",
              "      <th>9</th>\n",
              "      <td>disappointment</td>\n",
              "      <td>3156</td>\n",
              "    </tr>\n",
              "    <tr>\n",
              "      <th>10</th>\n",
              "      <td>disapproval</td>\n",
              "      <td>4265</td>\n",
              "    </tr>\n",
              "    <tr>\n",
              "      <th>11</th>\n",
              "      <td>disgust</td>\n",
              "      <td>1910</td>\n",
              "    </tr>\n",
              "    <tr>\n",
              "      <th>12</th>\n",
              "      <td>embarrassment</td>\n",
              "      <td>964</td>\n",
              "    </tr>\n",
              "    <tr>\n",
              "      <th>13</th>\n",
              "      <td>excitement</td>\n",
              "      <td>2096</td>\n",
              "    </tr>\n",
              "    <tr>\n",
              "      <th>14</th>\n",
              "      <td>fear</td>\n",
              "      <td>1179</td>\n",
              "    </tr>\n",
              "    <tr>\n",
              "      <th>15</th>\n",
              "      <td>gratitude</td>\n",
              "      <td>4201</td>\n",
              "    </tr>\n",
              "    <tr>\n",
              "      <th>16</th>\n",
              "      <td>grief</td>\n",
              "      <td>252</td>\n",
              "    </tr>\n",
              "    <tr>\n",
              "      <th>17</th>\n",
              "      <td>joy</td>\n",
              "      <td>2977</td>\n",
              "    </tr>\n",
              "    <tr>\n",
              "      <th>18</th>\n",
              "      <td>love</td>\n",
              "      <td>3072</td>\n",
              "    </tr>\n",
              "    <tr>\n",
              "      <th>19</th>\n",
              "      <td>nervousness</td>\n",
              "      <td>681</td>\n",
              "    </tr>\n",
              "    <tr>\n",
              "      <th>20</th>\n",
              "      <td>optimism</td>\n",
              "      <td>3325</td>\n",
              "    </tr>\n",
              "    <tr>\n",
              "      <th>21</th>\n",
              "      <td>pride</td>\n",
              "      <td>496</td>\n",
              "    </tr>\n",
              "    <tr>\n",
              "      <th>22</th>\n",
              "      <td>realization</td>\n",
              "      <td>3270</td>\n",
              "    </tr>\n",
              "    <tr>\n",
              "      <th>23</th>\n",
              "      <td>relief</td>\n",
              "      <td>491</td>\n",
              "    </tr>\n",
              "    <tr>\n",
              "      <th>24</th>\n",
              "      <td>remorse</td>\n",
              "      <td>968</td>\n",
              "    </tr>\n",
              "    <tr>\n",
              "      <th>25</th>\n",
              "      <td>sadness</td>\n",
              "      <td>2463</td>\n",
              "    </tr>\n",
              "    <tr>\n",
              "      <th>26</th>\n",
              "      <td>surprise</td>\n",
              "      <td>2069</td>\n",
              "    </tr>\n",
              "    <tr>\n",
              "      <th>27</th>\n",
              "      <td>neutral</td>\n",
              "      <td>20590</td>\n",
              "    </tr>\n",
              "  </tbody>\n",
              "</table>\n",
              "</div>\n",
              "    <div class=\"colab-df-buttons\">\n",
              "\n",
              "  <div class=\"colab-df-container\">\n",
              "    <button class=\"colab-df-convert\" onclick=\"convertToInteractive('df-bb9d4e4d-5881-45f6-9713-92201cbf952b')\"\n",
              "            title=\"Convert this dataframe to an interactive table.\"\n",
              "            style=\"display:none;\">\n",
              "\n",
              "  <svg xmlns=\"http://www.w3.org/2000/svg\" height=\"24px\" viewBox=\"0 -960 960 960\">\n",
              "    <path d=\"M120-120v-720h720v720H120Zm60-500h600v-160H180v160Zm220 220h160v-160H400v160Zm0 220h160v-160H400v160ZM180-400h160v-160H180v160Zm440 0h160v-160H620v160ZM180-180h160v-160H180v160Zm440 0h160v-160H620v160Z\"/>\n",
              "  </svg>\n",
              "    </button>\n",
              "\n",
              "  <style>\n",
              "    .colab-df-container {\n",
              "      display:flex;\n",
              "      gap: 12px;\n",
              "    }\n",
              "\n",
              "    .colab-df-convert {\n",
              "      background-color: #E8F0FE;\n",
              "      border: none;\n",
              "      border-radius: 50%;\n",
              "      cursor: pointer;\n",
              "      display: none;\n",
              "      fill: #1967D2;\n",
              "      height: 32px;\n",
              "      padding: 0 0 0 0;\n",
              "      width: 32px;\n",
              "    }\n",
              "\n",
              "    .colab-df-convert:hover {\n",
              "      background-color: #E2EBFA;\n",
              "      box-shadow: 0px 1px 2px rgba(60, 64, 67, 0.3), 0px 1px 3px 1px rgba(60, 64, 67, 0.15);\n",
              "      fill: #174EA6;\n",
              "    }\n",
              "\n",
              "    .colab-df-buttons div {\n",
              "      margin-bottom: 4px;\n",
              "    }\n",
              "\n",
              "    [theme=dark] .colab-df-convert {\n",
              "      background-color: #3B4455;\n",
              "      fill: #D2E3FC;\n",
              "    }\n",
              "\n",
              "    [theme=dark] .colab-df-convert:hover {\n",
              "      background-color: #434B5C;\n",
              "      box-shadow: 0px 1px 3px 1px rgba(0, 0, 0, 0.15);\n",
              "      filter: drop-shadow(0px 1px 2px rgba(0, 0, 0, 0.3));\n",
              "      fill: #FFFFFF;\n",
              "    }\n",
              "  </style>\n",
              "\n",
              "    <script>\n",
              "      const buttonEl =\n",
              "        document.querySelector('#df-bb9d4e4d-5881-45f6-9713-92201cbf952b button.colab-df-convert');\n",
              "      buttonEl.style.display =\n",
              "        google.colab.kernel.accessAllowed ? 'block' : 'none';\n",
              "\n",
              "      async function convertToInteractive(key) {\n",
              "        const element = document.querySelector('#df-bb9d4e4d-5881-45f6-9713-92201cbf952b');\n",
              "        const dataTable =\n",
              "          await google.colab.kernel.invokeFunction('convertToInteractive',\n",
              "                                                    [key], {});\n",
              "        if (!dataTable) return;\n",
              "\n",
              "        const docLinkHtml = 'Like what you see? Visit the ' +\n",
              "          '<a target=\"_blank\" href=https://colab.research.google.com/notebooks/data_table.ipynb>data table notebook</a>'\n",
              "          + ' to learn more about interactive tables.';\n",
              "        element.innerHTML = '';\n",
              "        dataTable['output_type'] = 'display_data';\n",
              "        await google.colab.output.renderOutput(dataTable, element);\n",
              "        const docLink = document.createElement('div');\n",
              "        docLink.innerHTML = docLinkHtml;\n",
              "        element.appendChild(docLink);\n",
              "      }\n",
              "    </script>\n",
              "  </div>\n",
              "\n",
              "\n",
              "    <div id=\"df-9d3f6a49-2663-4c98-8f36-317f76e3c8a9\">\n",
              "      <button class=\"colab-df-quickchart\" onclick=\"quickchart('df-9d3f6a49-2663-4c98-8f36-317f76e3c8a9')\"\n",
              "                title=\"Suggest charts\"\n",
              "                style=\"display:none;\">\n",
              "\n",
              "<svg xmlns=\"http://www.w3.org/2000/svg\" height=\"24px\"viewBox=\"0 0 24 24\"\n",
              "     width=\"24px\">\n",
              "    <g>\n",
              "        <path d=\"M19 3H5c-1.1 0-2 .9-2 2v14c0 1.1.9 2 2 2h14c1.1 0 2-.9 2-2V5c0-1.1-.9-2-2-2zM9 17H7v-7h2v7zm4 0h-2V7h2v10zm4 0h-2v-4h2v4z\"/>\n",
              "    </g>\n",
              "</svg>\n",
              "      </button>\n",
              "\n",
              "<style>\n",
              "  .colab-df-quickchart {\n",
              "      --bg-color: #E8F0FE;\n",
              "      --fill-color: #1967D2;\n",
              "      --hover-bg-color: #E2EBFA;\n",
              "      --hover-fill-color: #174EA6;\n",
              "      --disabled-fill-color: #AAA;\n",
              "      --disabled-bg-color: #DDD;\n",
              "  }\n",
              "\n",
              "  [theme=dark] .colab-df-quickchart {\n",
              "      --bg-color: #3B4455;\n",
              "      --fill-color: #D2E3FC;\n",
              "      --hover-bg-color: #434B5C;\n",
              "      --hover-fill-color: #FFFFFF;\n",
              "      --disabled-bg-color: #3B4455;\n",
              "      --disabled-fill-color: #666;\n",
              "  }\n",
              "\n",
              "  .colab-df-quickchart {\n",
              "    background-color: var(--bg-color);\n",
              "    border: none;\n",
              "    border-radius: 50%;\n",
              "    cursor: pointer;\n",
              "    display: none;\n",
              "    fill: var(--fill-color);\n",
              "    height: 32px;\n",
              "    padding: 0;\n",
              "    width: 32px;\n",
              "  }\n",
              "\n",
              "  .colab-df-quickchart:hover {\n",
              "    background-color: var(--hover-bg-color);\n",
              "    box-shadow: 0 1px 2px rgba(60, 64, 67, 0.3), 0 1px 3px 1px rgba(60, 64, 67, 0.15);\n",
              "    fill: var(--button-hover-fill-color);\n",
              "  }\n",
              "\n",
              "  .colab-df-quickchart-complete:disabled,\n",
              "  .colab-df-quickchart-complete:disabled:hover {\n",
              "    background-color: var(--disabled-bg-color);\n",
              "    fill: var(--disabled-fill-color);\n",
              "    box-shadow: none;\n",
              "  }\n",
              "\n",
              "  .colab-df-spinner {\n",
              "    border: 2px solid var(--fill-color);\n",
              "    border-color: transparent;\n",
              "    border-bottom-color: var(--fill-color);\n",
              "    animation:\n",
              "      spin 1s steps(1) infinite;\n",
              "  }\n",
              "\n",
              "  @keyframes spin {\n",
              "    0% {\n",
              "      border-color: transparent;\n",
              "      border-bottom-color: var(--fill-color);\n",
              "      border-left-color: var(--fill-color);\n",
              "    }\n",
              "    20% {\n",
              "      border-color: transparent;\n",
              "      border-left-color: var(--fill-color);\n",
              "      border-top-color: var(--fill-color);\n",
              "    }\n",
              "    30% {\n",
              "      border-color: transparent;\n",
              "      border-left-color: var(--fill-color);\n",
              "      border-top-color: var(--fill-color);\n",
              "      border-right-color: var(--fill-color);\n",
              "    }\n",
              "    40% {\n",
              "      border-color: transparent;\n",
              "      border-right-color: var(--fill-color);\n",
              "      border-top-color: var(--fill-color);\n",
              "    }\n",
              "    60% {\n",
              "      border-color: transparent;\n",
              "      border-right-color: var(--fill-color);\n",
              "    }\n",
              "    80% {\n",
              "      border-color: transparent;\n",
              "      border-right-color: var(--fill-color);\n",
              "      border-bottom-color: var(--fill-color);\n",
              "    }\n",
              "    90% {\n",
              "      border-color: transparent;\n",
              "      border-bottom-color: var(--fill-color);\n",
              "    }\n",
              "  }\n",
              "</style>\n",
              "\n",
              "      <script>\n",
              "        async function quickchart(key) {\n",
              "          const quickchartButtonEl =\n",
              "            document.querySelector('#' + key + ' button');\n",
              "          quickchartButtonEl.disabled = true;  // To prevent multiple clicks.\n",
              "          quickchartButtonEl.classList.add('colab-df-spinner');\n",
              "          try {\n",
              "            const charts = await google.colab.kernel.invokeFunction(\n",
              "                'suggestCharts', [key], {});\n",
              "          } catch (error) {\n",
              "            console.error('Error during call to suggestCharts:', error);\n",
              "          }\n",
              "          quickchartButtonEl.classList.remove('colab-df-spinner');\n",
              "          quickchartButtonEl.classList.add('colab-df-quickchart-complete');\n",
              "        }\n",
              "        (() => {\n",
              "          let quickchartButtonEl =\n",
              "            document.querySelector('#df-9d3f6a49-2663-4c98-8f36-317f76e3c8a9 button');\n",
              "          quickchartButtonEl.style.display =\n",
              "            google.colab.kernel.accessAllowed ? 'block' : 'none';\n",
              "        })();\n",
              "      </script>\n",
              "    </div>\n",
              "\n",
              "  <div id=\"id_1ea92504-24af-41ab-a074-025fc80e15d6\">\n",
              "    <style>\n",
              "      .colab-df-generate {\n",
              "        background-color: #E8F0FE;\n",
              "        border: none;\n",
              "        border-radius: 50%;\n",
              "        cursor: pointer;\n",
              "        display: none;\n",
              "        fill: #1967D2;\n",
              "        height: 32px;\n",
              "        padding: 0 0 0 0;\n",
              "        width: 32px;\n",
              "      }\n",
              "\n",
              "      .colab-df-generate:hover {\n",
              "        background-color: #E2EBFA;\n",
              "        box-shadow: 0px 1px 2px rgba(60, 64, 67, 0.3), 0px 1px 3px 1px rgba(60, 64, 67, 0.15);\n",
              "        fill: #174EA6;\n",
              "      }\n",
              "\n",
              "      [theme=dark] .colab-df-generate {\n",
              "        background-color: #3B4455;\n",
              "        fill: #D2E3FC;\n",
              "      }\n",
              "\n",
              "      [theme=dark] .colab-df-generate:hover {\n",
              "        background-color: #434B5C;\n",
              "        box-shadow: 0px 1px 3px 1px rgba(0, 0, 0, 0.15);\n",
              "        filter: drop-shadow(0px 1px 2px rgba(0, 0, 0, 0.3));\n",
              "        fill: #FFFFFF;\n",
              "      }\n",
              "    </style>\n",
              "    <button class=\"colab-df-generate\" onclick=\"generateWithVariable('summary_df')\"\n",
              "            title=\"Generate code using this dataframe.\"\n",
              "            style=\"display:none;\">\n",
              "\n",
              "  <svg xmlns=\"http://www.w3.org/2000/svg\" height=\"24px\"viewBox=\"0 0 24 24\"\n",
              "       width=\"24px\">\n",
              "    <path d=\"M7,19H8.4L18.45,9,17,7.55,7,17.6ZM5,21V16.75L18.45,3.32a2,2,0,0,1,2.83,0l1.4,1.43a1.91,1.91,0,0,1,.58,1.4,1.91,1.91,0,0,1-.58,1.4L9.25,21ZM18.45,9,17,7.55Zm-12,3A5.31,5.31,0,0,0,4.9,8.1,5.31,5.31,0,0,0,1,6.5,5.31,5.31,0,0,0,4.9,4.9,5.31,5.31,0,0,0,6.5,1,5.31,5.31,0,0,0,8.1,4.9,5.31,5.31,0,0,0,12,6.5,5.46,5.46,0,0,0,6.5,12Z\"/>\n",
              "  </svg>\n",
              "    </button>\n",
              "    <script>\n",
              "      (() => {\n",
              "      const buttonEl =\n",
              "        document.querySelector('#id_1ea92504-24af-41ab-a074-025fc80e15d6 button.colab-df-generate');\n",
              "      buttonEl.style.display =\n",
              "        google.colab.kernel.accessAllowed ? 'block' : 'none';\n",
              "\n",
              "      buttonEl.onclick = () => {\n",
              "        google.colab.notebook.generateWithVariable('summary_df');\n",
              "      }\n",
              "      })();\n",
              "    </script>\n",
              "  </div>\n",
              "\n",
              "    </div>\n",
              "  </div>\n"
            ],
            "application/vnd.google.colaboratory.intrinsic+json": {
              "type": "dataframe",
              "variable_name": "summary_df",
              "summary": "{\n  \"name\": \"summary_df\",\n  \"rows\": 28,\n  \"fields\": [\n    {\n      \"column\": \"Emotion\",\n      \"properties\": {\n        \"dtype\": \"string\",\n        \"num_unique_values\": 28,\n        \"samples\": [\n          \"disappointment\",\n          \"sadness\",\n          \"desire\"\n        ],\n        \"semantic_type\": \"\",\n        \"description\": \"\"\n      }\n    },\n    {\n      \"column\": \"Count\",\n      \"properties\": {\n        \"dtype\": \"int32\",\n        \"num_unique_values\": 28,\n        \"samples\": [\n          3156,\n          2463,\n          1428\n        ],\n        \"semantic_type\": \"\",\n        \"description\": \"\"\n      }\n    }\n  ]\n}"
            }
          },
          "metadata": {},
          "execution_count": 40
        }
      ]
    },
    {
      "cell_type": "markdown",
      "source": [
        "## MLP"
      ],
      "metadata": {
        "id": "U2czuwMt1oS8"
      }
    },
    {
      "cell_type": "markdown",
      "source": [
        "Common sense benchmark: 26.4 accuracy, if every sentence is neutral"
      ],
      "metadata": {
        "id": "s51aT1-9Z2HO"
      }
    },
    {
      "source": [
        "text_vectorization = TextVectorization(\n",
        "    ngrams=2,\n",
        "    max_tokens=25000,\n",
        "    output_mode=\"multi_hot\")\n",
        "\n",
        "text_only_train_ds = train_ds[\"text\"]\n",
        "text_vectorization.adapt(text_only_train_ds)"
      ],
      "cell_type": "code",
      "metadata": {
        "id": "JhWRyDvtPP--"
      },
      "execution_count": 6,
      "outputs": []
    },
    {
      "cell_type": "code",
      "source": [
        "binary_1gram_train_ds = tf.data.Dataset.from_tensor_slices((train_ds['text'].values, train_ds.drop(columns=['text']).values)).map(\n",
        "    lambda x, y: (text_vectorization(x), y), num_parallel_calls=4)\n",
        "binary_1gram_val_ds = tf.data.Dataset.from_tensor_slices((val_ds['text'].values, val_ds.drop(columns=['text']).values)).map(\n",
        "    lambda x, y: (text_vectorization(x), y), num_parallel_calls=4)\n",
        "binary_1gram_test_ds = tf.data.Dataset.from_tensor_slices((test_ds['text'].values, test_ds.drop(columns=['text']).values)).map(\n",
        "    lambda x, y: (text_vectorization(x), y), num_parallel_calls=4)\n",
        "\n",
        "batch_size = 64\n",
        "binary_1gram_train_ds = binary_1gram_train_ds.batch(batch_size)\n",
        "binary_1gram_val_ds = binary_1gram_val_ds.batch(batch_size)\n",
        "binary_1gram_test_ds = binary_1gram_test_ds.batch(batch_size)"
      ],
      "metadata": {
        "id": "fK4zYjR2azrV"
      },
      "execution_count": 7,
      "outputs": []
    },
    {
      "cell_type": "code",
      "source": [
        "for example in binary_1gram_train_ds.take(1):\n",
        "    print(\"Input shape:\", example[0].shape)\n",
        "    print(\"Label shape:\", example[1].shape)"
      ],
      "metadata": {
        "colab": {
          "base_uri": "https://localhost:8080/"
        },
        "id": "4Avh2_BxOkpg",
        "outputId": "efde770c-a0eb-4547-c525-3f2804f4adcb"
      },
      "execution_count": 8,
      "outputs": [
        {
          "output_type": "stream",
          "name": "stdout",
          "text": [
            "Input shape: (64, 25000)\n",
            "Label shape: (64, 28)\n"
          ]
        }
      ]
    },
    {
      "cell_type": "markdown",
      "source": [
        "### MLP 1: using only one hidden layer\n",
        "\n",
        "Using only one hidden layer, with 32 relus, in order to do not make an information bottleneck as we have 28 sigmoid activations"
      ],
      "metadata": {
        "id": "0Fsw-IrB5rWO"
      }
    },
    {
      "source": [
        "def get_model(max_tokens=25000, hidden_dim=32):\n",
        "    inputs = keras.Input(shape=(max_tokens,))\n",
        "    x = layers.Dense(hidden_dim, activation=\"relu\")(inputs)\n",
        "    x = layers.Dropout(0.5)(x)\n",
        "    outputs = layers.Dense(28, activation=\"sigmoid\")(x)\n",
        "\n",
        "    model = keras.Model(inputs, outputs)\n",
        "    model.compile(optimizer=\"rmsprop\",\n",
        "                  loss=\"binary_crossentropy\",\n",
        "                  metrics=[\"accuracy\", AUC(multi_label=True)])  # You can add more metrics if needed\n",
        "\n",
        "    return model\n",
        "\n",
        "model = get_model()\n",
        "model.summary()\n",
        "\n",
        "callbacks = [\n",
        "    keras.callbacks.ModelCheckpoint(\"binary_2gram_1.keras\", save_best_only=True),\n",
        "    keras.callbacks.EarlyStopping(patience=3, restore_best_weights=True),\n",
        "    keras.callbacks.ReduceLROnPlateau(patience=2, factor=0.2)\n",
        "]\n",
        "\n",
        "model.fit(binary_1gram_train_ds.cache(),\n",
        "          validation_data=binary_1gram_val_ds.cache(),\n",
        "          epochs=50,\n",
        "          callbacks=callbacks)\n",
        "\n",
        "model = keras.models.load_model(\"binary_2gram_1.keras\")\n",
        "print(f\"Test acc: {model.evaluate(binary_1gram_test_ds)[1]:.3f}\")"
      ],
      "cell_type": "code",
      "metadata": {
        "colab": {
          "base_uri": "https://localhost:8080/",
          "height": 856
        },
        "id": "JUCQ2JZaJbdy",
        "outputId": "6462d4b0-9b0f-47d2-c992-7d052c788319"
      },
      "execution_count": 10,
      "outputs": [
        {
          "output_type": "display_data",
          "data": {
            "text/plain": [
              "\u001b[1mModel: \"functional_1\"\u001b[0m\n"
            ],
            "text/html": [
              "<pre style=\"white-space:pre;overflow-x:auto;line-height:normal;font-family:Menlo,'DejaVu Sans Mono',consolas,'Courier New',monospace\"><span style=\"font-weight: bold\">Model: \"functional_1\"</span>\n",
              "</pre>\n"
            ]
          },
          "metadata": {}
        },
        {
          "output_type": "display_data",
          "data": {
            "text/plain": [
              "┏━━━━━━━━━━━━━━━━━━━━━━━━━━━━━━━━━┳━━━━━━━━━━━━━━━━━━━━━━━━┳━━━━━━━━━━━━━━━┓\n",
              "┃\u001b[1m \u001b[0m\u001b[1mLayer (type)                   \u001b[0m\u001b[1m \u001b[0m┃\u001b[1m \u001b[0m\u001b[1mOutput Shape          \u001b[0m\u001b[1m \u001b[0m┃\u001b[1m \u001b[0m\u001b[1m      Param #\u001b[0m\u001b[1m \u001b[0m┃\n",
              "┡━━━━━━━━━━━━━━━━━━━━━━━━━━━━━━━━━╇━━━━━━━━━━━━━━━━━━━━━━━━╇━━━━━━━━━━━━━━━┩\n",
              "│ input_layer_1 (\u001b[38;5;33mInputLayer\u001b[0m)      │ (\u001b[38;5;45mNone\u001b[0m, \u001b[38;5;34m25000\u001b[0m)          │             \u001b[38;5;34m0\u001b[0m │\n",
              "├─────────────────────────────────┼────────────────────────┼───────────────┤\n",
              "│ dense_2 (\u001b[38;5;33mDense\u001b[0m)                 │ (\u001b[38;5;45mNone\u001b[0m, \u001b[38;5;34m32\u001b[0m)             │       \u001b[38;5;34m800,032\u001b[0m │\n",
              "├─────────────────────────────────┼────────────────────────┼───────────────┤\n",
              "│ dropout_1 (\u001b[38;5;33mDropout\u001b[0m)             │ (\u001b[38;5;45mNone\u001b[0m, \u001b[38;5;34m32\u001b[0m)             │             \u001b[38;5;34m0\u001b[0m │\n",
              "├─────────────────────────────────┼────────────────────────┼───────────────┤\n",
              "│ dense_3 (\u001b[38;5;33mDense\u001b[0m)                 │ (\u001b[38;5;45mNone\u001b[0m, \u001b[38;5;34m28\u001b[0m)             │           \u001b[38;5;34m924\u001b[0m │\n",
              "└─────────────────────────────────┴────────────────────────┴───────────────┘\n"
            ],
            "text/html": [
              "<pre style=\"white-space:pre;overflow-x:auto;line-height:normal;font-family:Menlo,'DejaVu Sans Mono',consolas,'Courier New',monospace\">┏━━━━━━━━━━━━━━━━━━━━━━━━━━━━━━━━━┳━━━━━━━━━━━━━━━━━━━━━━━━┳━━━━━━━━━━━━━━━┓\n",
              "┃<span style=\"font-weight: bold\"> Layer (type)                    </span>┃<span style=\"font-weight: bold\"> Output Shape           </span>┃<span style=\"font-weight: bold\">       Param # </span>┃\n",
              "┡━━━━━━━━━━━━━━━━━━━━━━━━━━━━━━━━━╇━━━━━━━━━━━━━━━━━━━━━━━━╇━━━━━━━━━━━━━━━┩\n",
              "│ input_layer_1 (<span style=\"color: #0087ff; text-decoration-color: #0087ff\">InputLayer</span>)      │ (<span style=\"color: #00d7ff; text-decoration-color: #00d7ff\">None</span>, <span style=\"color: #00af00; text-decoration-color: #00af00\">25000</span>)          │             <span style=\"color: #00af00; text-decoration-color: #00af00\">0</span> │\n",
              "├─────────────────────────────────┼────────────────────────┼───────────────┤\n",
              "│ dense_2 (<span style=\"color: #0087ff; text-decoration-color: #0087ff\">Dense</span>)                 │ (<span style=\"color: #00d7ff; text-decoration-color: #00d7ff\">None</span>, <span style=\"color: #00af00; text-decoration-color: #00af00\">32</span>)             │       <span style=\"color: #00af00; text-decoration-color: #00af00\">800,032</span> │\n",
              "├─────────────────────────────────┼────────────────────────┼───────────────┤\n",
              "│ dropout_1 (<span style=\"color: #0087ff; text-decoration-color: #0087ff\">Dropout</span>)             │ (<span style=\"color: #00d7ff; text-decoration-color: #00d7ff\">None</span>, <span style=\"color: #00af00; text-decoration-color: #00af00\">32</span>)             │             <span style=\"color: #00af00; text-decoration-color: #00af00\">0</span> │\n",
              "├─────────────────────────────────┼────────────────────────┼───────────────┤\n",
              "│ dense_3 (<span style=\"color: #0087ff; text-decoration-color: #0087ff\">Dense</span>)                 │ (<span style=\"color: #00d7ff; text-decoration-color: #00d7ff\">None</span>, <span style=\"color: #00af00; text-decoration-color: #00af00\">28</span>)             │           <span style=\"color: #00af00; text-decoration-color: #00af00\">924</span> │\n",
              "└─────────────────────────────────┴────────────────────────┴───────────────┘\n",
              "</pre>\n"
            ]
          },
          "metadata": {}
        },
        {
          "output_type": "display_data",
          "data": {
            "text/plain": [
              "\u001b[1m Total params: \u001b[0m\u001b[38;5;34m800,956\u001b[0m (3.06 MB)\n"
            ],
            "text/html": [
              "<pre style=\"white-space:pre;overflow-x:auto;line-height:normal;font-family:Menlo,'DejaVu Sans Mono',consolas,'Courier New',monospace\"><span style=\"font-weight: bold\"> Total params: </span><span style=\"color: #00af00; text-decoration-color: #00af00\">800,956</span> (3.06 MB)\n",
              "</pre>\n"
            ]
          },
          "metadata": {}
        },
        {
          "output_type": "display_data",
          "data": {
            "text/plain": [
              "\u001b[1m Trainable params: \u001b[0m\u001b[38;5;34m800,956\u001b[0m (3.06 MB)\n"
            ],
            "text/html": [
              "<pre style=\"white-space:pre;overflow-x:auto;line-height:normal;font-family:Menlo,'DejaVu Sans Mono',consolas,'Courier New',monospace\"><span style=\"font-weight: bold\"> Trainable params: </span><span style=\"color: #00af00; text-decoration-color: #00af00\">800,956</span> (3.06 MB)\n",
              "</pre>\n"
            ]
          },
          "metadata": {}
        },
        {
          "output_type": "display_data",
          "data": {
            "text/plain": [
              "\u001b[1m Non-trainable params: \u001b[0m\u001b[38;5;34m0\u001b[0m (0.00 B)\n"
            ],
            "text/html": [
              "<pre style=\"white-space:pre;overflow-x:auto;line-height:normal;font-family:Menlo,'DejaVu Sans Mono',consolas,'Courier New',monospace\"><span style=\"font-weight: bold\"> Non-trainable params: </span><span style=\"color: #00af00; text-decoration-color: #00af00\">0</span> (0.00 B)\n",
              "</pre>\n"
            ]
          },
          "metadata": {}
        },
        {
          "output_type": "stream",
          "name": "stdout",
          "text": [
            "Epoch 1/50\n",
            "\u001b[1m1750/1750\u001b[0m \u001b[32m━━━━━━━━━━━━━━━━━━━━\u001b[0m\u001b[37m\u001b[0m \u001b[1m22s\u001b[0m 12ms/step - accuracy: 0.1986 - auc_1: 0.5062 - loss: 0.2432 - val_accuracy: 0.3001 - val_auc_1: 0.6695 - val_loss: 0.1459 - learning_rate: 0.0010\n",
            "Epoch 2/50\n",
            "\u001b[1m1750/1750\u001b[0m \u001b[32m━━━━━━━━━━━━━━━━━━━━\u001b[0m\u001b[37m\u001b[0m \u001b[1m7s\u001b[0m 4ms/step - accuracy: 0.3084 - auc_1: 0.6150 - loss: 0.1509 - val_accuracy: 0.3364 - val_auc_1: 0.7256 - val_loss: 0.1385 - learning_rate: 0.0010\n",
            "Epoch 3/50\n",
            "\u001b[1m1750/1750\u001b[0m \u001b[32m━━━━━━━━━━━━━━━━━━━━\u001b[0m\u001b[37m\u001b[0m \u001b[1m7s\u001b[0m 4ms/step - accuracy: 0.3359 - auc_1: 0.6774 - loss: 0.1435 - val_accuracy: 0.3541 - val_auc_1: 0.7537 - val_loss: 0.1340 - learning_rate: 0.0010\n",
            "Epoch 4/50\n",
            "\u001b[1m1750/1750\u001b[0m \u001b[32m━━━━━━━━━━━━━━━━━━━━\u001b[0m\u001b[37m\u001b[0m \u001b[1m7s\u001b[0m 4ms/step - accuracy: 0.3512 - auc_1: 0.7143 - loss: 0.1384 - val_accuracy: 0.3624 - val_auc_1: 0.7690 - val_loss: 0.1312 - learning_rate: 0.0010\n",
            "Epoch 5/50\n",
            "\u001b[1m1750/1750\u001b[0m \u001b[32m━━━━━━━━━━━━━━━━━━━━\u001b[0m\u001b[37m\u001b[0m \u001b[1m7s\u001b[0m 4ms/step - accuracy: 0.3598 - auc_1: 0.7401 - loss: 0.1350 - val_accuracy: 0.3695 - val_auc_1: 0.7791 - val_loss: 0.1292 - learning_rate: 0.0010\n",
            "Epoch 6/50\n",
            "\u001b[1m1750/1750\u001b[0m \u001b[32m━━━━━━━━━━━━━━━━━━━━\u001b[0m\u001b[37m\u001b[0m \u001b[1m7s\u001b[0m 4ms/step - accuracy: 0.3701 - auc_1: 0.7606 - loss: 0.1322 - val_accuracy: 0.3748 - val_auc_1: 0.7862 - val_loss: 0.1278 - learning_rate: 0.0010\n",
            "Epoch 7/50\n",
            "\u001b[1m1750/1750\u001b[0m \u001b[32m━━━━━━━━━━━━━━━━━━━━\u001b[0m\u001b[37m\u001b[0m \u001b[1m7s\u001b[0m 4ms/step - accuracy: 0.3769 - auc_1: 0.7740 - loss: 0.1299 - val_accuracy: 0.3798 - val_auc_1: 0.7909 - val_loss: 0.1268 - learning_rate: 0.0010\n",
            "Epoch 8/50\n",
            "\u001b[1m1750/1750\u001b[0m \u001b[32m━━━━━━━━━━━━━━━━━━━━\u001b[0m\u001b[37m\u001b[0m \u001b[1m7s\u001b[0m 4ms/step - accuracy: 0.3828 - auc_1: 0.7870 - loss: 0.1280 - val_accuracy: 0.3836 - val_auc_1: 0.7948 - val_loss: 0.1259 - learning_rate: 0.0010\n",
            "Epoch 9/50\n",
            "\u001b[1m1750/1750\u001b[0m \u001b[32m━━━━━━━━━━━━━━━━━━━━\u001b[0m\u001b[37m\u001b[0m \u001b[1m7s\u001b[0m 4ms/step - accuracy: 0.3889 - auc_1: 0.7940 - loss: 0.1264 - val_accuracy: 0.3864 - val_auc_1: 0.7963 - val_loss: 0.1255 - learning_rate: 0.0010\n",
            "Epoch 10/50\n",
            "\u001b[1m1750/1750\u001b[0m \u001b[32m━━━━━━━━━━━━━━━━━━━━\u001b[0m\u001b[37m\u001b[0m \u001b[1m7s\u001b[0m 4ms/step - accuracy: 0.3957 - auc_1: 0.8035 - loss: 0.1247 - val_accuracy: 0.3888 - val_auc_1: 0.7968 - val_loss: 0.1251 - learning_rate: 0.0010\n",
            "Epoch 11/50\n",
            "\u001b[1m1750/1750\u001b[0m \u001b[32m━━━━━━━━━━━━━━━━━━━━\u001b[0m\u001b[37m\u001b[0m \u001b[1m7s\u001b[0m 4ms/step - accuracy: 0.3987 - auc_1: 0.8100 - loss: 0.1237 - val_accuracy: 0.3910 - val_auc_1: 0.7979 - val_loss: 0.1248 - learning_rate: 0.0010\n",
            "Epoch 12/50\n",
            "\u001b[1m1750/1750\u001b[0m \u001b[32m━━━━━━━━━━━━━━━━━━━━\u001b[0m\u001b[37m\u001b[0m \u001b[1m7s\u001b[0m 4ms/step - accuracy: 0.4041 - auc_1: 0.8159 - loss: 0.1226 - val_accuracy: 0.3922 - val_auc_1: 0.7988 - val_loss: 0.1246 - learning_rate: 0.0010\n",
            "Epoch 13/50\n",
            "\u001b[1m1750/1750\u001b[0m \u001b[32m━━━━━━━━━━━━━━━━━━━━\u001b[0m\u001b[37m\u001b[0m \u001b[1m7s\u001b[0m 4ms/step - accuracy: 0.4074 - auc_1: 0.8206 - loss: 0.1216 - val_accuracy: 0.3924 - val_auc_1: 0.7989 - val_loss: 0.1247 - learning_rate: 0.0010\n",
            "Epoch 14/50\n",
            "\u001b[1m1750/1750\u001b[0m \u001b[32m━━━━━━━━━━━━━━━━━━━━\u001b[0m\u001b[37m\u001b[0m \u001b[1m7s\u001b[0m 4ms/step - accuracy: 0.4103 - auc_1: 0.8256 - loss: 0.1207 - val_accuracy: 0.3923 - val_auc_1: 0.7991 - val_loss: 0.1247 - learning_rate: 0.0010\n",
            "Epoch 15/50\n",
            "\u001b[1m1750/1750\u001b[0m \u001b[32m━━━━━━━━━━━━━━━━━━━━\u001b[0m\u001b[37m\u001b[0m \u001b[1m7s\u001b[0m 4ms/step - accuracy: 0.4139 - auc_1: 0.8328 - loss: 0.1195 - val_accuracy: 0.3945 - val_auc_1: 0.7994 - val_loss: 0.1247 - learning_rate: 2.0000e-04\n",
            "\u001b[1m1113/1113\u001b[0m \u001b[32m━━━━━━━━━━━━━━━━━━━━\u001b[0m\u001b[37m\u001b[0m \u001b[1m12s\u001b[0m 9ms/step - accuracy: 0.3962 - auc_1: 0.8011 - loss: 0.1241\n",
            "Test acc: 0.396\n"
          ]
        }
      ]
    },
    {
      "cell_type": "markdown",
      "source": [
        "### MLP 2: 2 hidden layers\n",
        "\n",
        "Adding more hidden layers, to improve metrics and train faster. The model will also overfit much faster"
      ],
      "metadata": {
        "id": "8hpPpZxU6BUG"
      }
    },
    {
      "cell_type": "code",
      "source": [
        "def get_model(max_tokens=25000, hidden_dim=256):\n",
        "    inputs = keras.Input(shape=(max_tokens,))\n",
        "    x = layers.Dense(hidden_dim, activation=\"relu\")(inputs)\n",
        "    x = layers.Dropout(0.5)(x)\n",
        "    x = layers.Dense(hidden_dim // 2, activation=\"relu\")(x)\n",
        "    x = layers.Dropout(0.5)(x)\n",
        "    outputs = layers.Dense(28, activation=\"sigmoid\")(x)\n",
        "\n",
        "    model = keras.Model(inputs, outputs)\n",
        "    model.compile(optimizer=\"adam\",\n",
        "                  loss=\"binary_crossentropy\",\n",
        "                  metrics=[\"accuracy\", AUC(multi_label=True)])\n",
        "\n",
        "    return model\n",
        "\n",
        "model = get_model()\n",
        "model.summary()\n",
        "\n",
        "callbacks = [\n",
        "    keras.callbacks.ModelCheckpoint(\"binary_2gram.keras\", save_best_only=True),\n",
        "    keras.callbacks.EarlyStopping(patience=3, restore_best_weights=True),\n",
        "    keras.callbacks.ReduceLROnPlateau(patience=2, factor=0.2)\n",
        "]\n",
        "\n",
        "model.fit(binary_1gram_train_ds.cache(),\n",
        "          validation_data=binary_1gram_val_ds.cache(),\n",
        "          epochs=10,\n",
        "          callbacks=callbacks)\n",
        "\n",
        "model = keras.models.load_model(\"binary_2gram.keras\")\n",
        "print(f\"Test acc: {model.evaluate(binary_1gram_test_ds)[1]:.3f}\")"
      ],
      "metadata": {
        "colab": {
          "base_uri": "https://localhost:8080/",
          "height": 565
        },
        "id": "zqcagcEkURfL",
        "outputId": "aa89223d-a21e-4202-ba4e-ad8842f53f81"
      },
      "execution_count": 11,
      "outputs": [
        {
          "output_type": "display_data",
          "data": {
            "text/plain": [
              "\u001b[1mModel: \"functional_2\"\u001b[0m\n"
            ],
            "text/html": [
              "<pre style=\"white-space:pre;overflow-x:auto;line-height:normal;font-family:Menlo,'DejaVu Sans Mono',consolas,'Courier New',monospace\"><span style=\"font-weight: bold\">Model: \"functional_2\"</span>\n",
              "</pre>\n"
            ]
          },
          "metadata": {}
        },
        {
          "output_type": "display_data",
          "data": {
            "text/plain": [
              "┏━━━━━━━━━━━━━━━━━━━━━━━━━━━━━━━━━┳━━━━━━━━━━━━━━━━━━━━━━━━┳━━━━━━━━━━━━━━━┓\n",
              "┃\u001b[1m \u001b[0m\u001b[1mLayer (type)                   \u001b[0m\u001b[1m \u001b[0m┃\u001b[1m \u001b[0m\u001b[1mOutput Shape          \u001b[0m\u001b[1m \u001b[0m┃\u001b[1m \u001b[0m\u001b[1m      Param #\u001b[0m\u001b[1m \u001b[0m┃\n",
              "┡━━━━━━━━━━━━━━━━━━━━━━━━━━━━━━━━━╇━━━━━━━━━━━━━━━━━━━━━━━━╇━━━━━━━━━━━━━━━┩\n",
              "│ input_layer_2 (\u001b[38;5;33mInputLayer\u001b[0m)      │ (\u001b[38;5;45mNone\u001b[0m, \u001b[38;5;34m25000\u001b[0m)          │             \u001b[38;5;34m0\u001b[0m │\n",
              "├─────────────────────────────────┼────────────────────────┼───────────────┤\n",
              "│ dense_4 (\u001b[38;5;33mDense\u001b[0m)                 │ (\u001b[38;5;45mNone\u001b[0m, \u001b[38;5;34m256\u001b[0m)            │     \u001b[38;5;34m6,400,256\u001b[0m │\n",
              "├─────────────────────────────────┼────────────────────────┼───────────────┤\n",
              "│ dropout_2 (\u001b[38;5;33mDropout\u001b[0m)             │ (\u001b[38;5;45mNone\u001b[0m, \u001b[38;5;34m256\u001b[0m)            │             \u001b[38;5;34m0\u001b[0m │\n",
              "├─────────────────────────────────┼────────────────────────┼───────────────┤\n",
              "│ dense_5 (\u001b[38;5;33mDense\u001b[0m)                 │ (\u001b[38;5;45mNone\u001b[0m, \u001b[38;5;34m128\u001b[0m)            │        \u001b[38;5;34m32,896\u001b[0m │\n",
              "├─────────────────────────────────┼────────────────────────┼───────────────┤\n",
              "│ dropout_3 (\u001b[38;5;33mDropout\u001b[0m)             │ (\u001b[38;5;45mNone\u001b[0m, \u001b[38;5;34m128\u001b[0m)            │             \u001b[38;5;34m0\u001b[0m │\n",
              "├─────────────────────────────────┼────────────────────────┼───────────────┤\n",
              "│ dense_6 (\u001b[38;5;33mDense\u001b[0m)                 │ (\u001b[38;5;45mNone\u001b[0m, \u001b[38;5;34m28\u001b[0m)             │         \u001b[38;5;34m3,612\u001b[0m │\n",
              "└─────────────────────────────────┴────────────────────────┴───────────────┘\n"
            ],
            "text/html": [
              "<pre style=\"white-space:pre;overflow-x:auto;line-height:normal;font-family:Menlo,'DejaVu Sans Mono',consolas,'Courier New',monospace\">┏━━━━━━━━━━━━━━━━━━━━━━━━━━━━━━━━━┳━━━━━━━━━━━━━━━━━━━━━━━━┳━━━━━━━━━━━━━━━┓\n",
              "┃<span style=\"font-weight: bold\"> Layer (type)                    </span>┃<span style=\"font-weight: bold\"> Output Shape           </span>┃<span style=\"font-weight: bold\">       Param # </span>┃\n",
              "┡━━━━━━━━━━━━━━━━━━━━━━━━━━━━━━━━━╇━━━━━━━━━━━━━━━━━━━━━━━━╇━━━━━━━━━━━━━━━┩\n",
              "│ input_layer_2 (<span style=\"color: #0087ff; text-decoration-color: #0087ff\">InputLayer</span>)      │ (<span style=\"color: #00d7ff; text-decoration-color: #00d7ff\">None</span>, <span style=\"color: #00af00; text-decoration-color: #00af00\">25000</span>)          │             <span style=\"color: #00af00; text-decoration-color: #00af00\">0</span> │\n",
              "├─────────────────────────────────┼────────────────────────┼───────────────┤\n",
              "│ dense_4 (<span style=\"color: #0087ff; text-decoration-color: #0087ff\">Dense</span>)                 │ (<span style=\"color: #00d7ff; text-decoration-color: #00d7ff\">None</span>, <span style=\"color: #00af00; text-decoration-color: #00af00\">256</span>)            │     <span style=\"color: #00af00; text-decoration-color: #00af00\">6,400,256</span> │\n",
              "├─────────────────────────────────┼────────────────────────┼───────────────┤\n",
              "│ dropout_2 (<span style=\"color: #0087ff; text-decoration-color: #0087ff\">Dropout</span>)             │ (<span style=\"color: #00d7ff; text-decoration-color: #00d7ff\">None</span>, <span style=\"color: #00af00; text-decoration-color: #00af00\">256</span>)            │             <span style=\"color: #00af00; text-decoration-color: #00af00\">0</span> │\n",
              "├─────────────────────────────────┼────────────────────────┼───────────────┤\n",
              "│ dense_5 (<span style=\"color: #0087ff; text-decoration-color: #0087ff\">Dense</span>)                 │ (<span style=\"color: #00d7ff; text-decoration-color: #00d7ff\">None</span>, <span style=\"color: #00af00; text-decoration-color: #00af00\">128</span>)            │        <span style=\"color: #00af00; text-decoration-color: #00af00\">32,896</span> │\n",
              "├─────────────────────────────────┼────────────────────────┼───────────────┤\n",
              "│ dropout_3 (<span style=\"color: #0087ff; text-decoration-color: #0087ff\">Dropout</span>)             │ (<span style=\"color: #00d7ff; text-decoration-color: #00d7ff\">None</span>, <span style=\"color: #00af00; text-decoration-color: #00af00\">128</span>)            │             <span style=\"color: #00af00; text-decoration-color: #00af00\">0</span> │\n",
              "├─────────────────────────────────┼────────────────────────┼───────────────┤\n",
              "│ dense_6 (<span style=\"color: #0087ff; text-decoration-color: #0087ff\">Dense</span>)                 │ (<span style=\"color: #00d7ff; text-decoration-color: #00d7ff\">None</span>, <span style=\"color: #00af00; text-decoration-color: #00af00\">28</span>)             │         <span style=\"color: #00af00; text-decoration-color: #00af00\">3,612</span> │\n",
              "└─────────────────────────────────┴────────────────────────┴───────────────┘\n",
              "</pre>\n"
            ]
          },
          "metadata": {}
        },
        {
          "output_type": "display_data",
          "data": {
            "text/plain": [
              "\u001b[1m Total params: \u001b[0m\u001b[38;5;34m6,436,764\u001b[0m (24.55 MB)\n"
            ],
            "text/html": [
              "<pre style=\"white-space:pre;overflow-x:auto;line-height:normal;font-family:Menlo,'DejaVu Sans Mono',consolas,'Courier New',monospace\"><span style=\"font-weight: bold\"> Total params: </span><span style=\"color: #00af00; text-decoration-color: #00af00\">6,436,764</span> (24.55 MB)\n",
              "</pre>\n"
            ]
          },
          "metadata": {}
        },
        {
          "output_type": "display_data",
          "data": {
            "text/plain": [
              "\u001b[1m Trainable params: \u001b[0m\u001b[38;5;34m6,436,764\u001b[0m (24.55 MB)\n"
            ],
            "text/html": [
              "<pre style=\"white-space:pre;overflow-x:auto;line-height:normal;font-family:Menlo,'DejaVu Sans Mono',consolas,'Courier New',monospace\"><span style=\"font-weight: bold\"> Trainable params: </span><span style=\"color: #00af00; text-decoration-color: #00af00\">6,436,764</span> (24.55 MB)\n",
              "</pre>\n"
            ]
          },
          "metadata": {}
        },
        {
          "output_type": "display_data",
          "data": {
            "text/plain": [
              "\u001b[1m Non-trainable params: \u001b[0m\u001b[38;5;34m0\u001b[0m (0.00 B)\n"
            ],
            "text/html": [
              "<pre style=\"white-space:pre;overflow-x:auto;line-height:normal;font-family:Menlo,'DejaVu Sans Mono',consolas,'Courier New',monospace\"><span style=\"font-weight: bold\"> Non-trainable params: </span><span style=\"color: #00af00; text-decoration-color: #00af00\">0</span> (0.00 B)\n",
              "</pre>\n"
            ]
          },
          "metadata": {}
        },
        {
          "output_type": "stream",
          "name": "stdout",
          "text": [
            "Epoch 1/10\n",
            "\u001b[1m1750/1750\u001b[0m \u001b[32m━━━━━━━━━━━━━━━━━━━━\u001b[0m\u001b[37m\u001b[0m \u001b[1m27s\u001b[0m 14ms/step - accuracy: 0.2665 - auc_2: 0.6008 - loss: 0.1897 - val_accuracy: 0.3795 - val_auc_2: 0.8015 - val_loss: 0.1254 - learning_rate: 0.0010\n",
            "Epoch 2/10\n",
            "\u001b[1m1750/1750\u001b[0m \u001b[32m━━━━━━━━━━━━━━━━━━━━\u001b[0m\u001b[37m\u001b[0m \u001b[1m8s\u001b[0m 4ms/step - accuracy: 0.3897 - auc_2: 0.7864 - loss: 0.1272 - val_accuracy: 0.3915 - val_auc_2: 0.8149 - val_loss: 0.1226 - learning_rate: 0.0010\n",
            "Epoch 3/10\n",
            "\u001b[1m1750/1750\u001b[0m \u001b[32m━━━━━━━━━━━━━━━━━━━━\u001b[0m\u001b[37m\u001b[0m \u001b[1m7s\u001b[0m 4ms/step - accuracy: 0.4224 - auc_2: 0.8360 - loss: 0.1173 - val_accuracy: 0.3905 - val_auc_2: 0.8152 - val_loss: 0.1232 - learning_rate: 0.0010\n",
            "Epoch 4/10\n",
            "\u001b[1m1750/1750\u001b[0m \u001b[32m━━━━━━━━━━━━━━━━━━━━\u001b[0m\u001b[37m\u001b[0m \u001b[1m7s\u001b[0m 4ms/step - accuracy: 0.4458 - auc_2: 0.8640 - loss: 0.1107 - val_accuracy: 0.3861 - val_auc_2: 0.8122 - val_loss: 0.1252 - learning_rate: 0.0010\n",
            "Epoch 5/10\n",
            "\u001b[1m1750/1750\u001b[0m \u001b[32m━━━━━━━━━━━━━━━━━━━━\u001b[0m\u001b[37m\u001b[0m \u001b[1m7s\u001b[0m 4ms/step - accuracy: 0.4760 - auc_2: 0.8875 - loss: 0.1037 - val_accuracy: 0.3808 - val_auc_2: 0.8116 - val_loss: 0.1275 - learning_rate: 2.0000e-04\n",
            "\u001b[1m1113/1113\u001b[0m \u001b[32m━━━━━━━━━━━━━━━━━━━━\u001b[0m\u001b[37m\u001b[0m \u001b[1m13s\u001b[0m 10ms/step - accuracy: 0.3966 - auc_2: 0.8160 - loss: 0.1222\n",
            "Test acc: 0.397\n"
          ]
        }
      ]
    },
    {
      "cell_type": "code",
      "source": [
        "model.save(\"binary_2gram.h5\")"
      ],
      "metadata": {
        "colab": {
          "base_uri": "https://localhost:8080/"
        },
        "id": "rD5eqjq0WA60",
        "outputId": "7f205c73-cc0d-489d-8b9c-cfde9a0d086c"
      },
      "execution_count": 13,
      "outputs": [
        {
          "output_type": "stream",
          "name": "stderr",
          "text": [
            "WARNING:absl:You are saving your model as an HDF5 file via `model.save()` or `keras.saving.save_model(model)`. This file format is considered legacy. We recommend using instead the native Keras format, e.g. `model.save('my_model.keras')` or `keras.saving.save_model(model, 'my_model.keras')`. \n"
          ]
        }
      ]
    },
    {
      "cell_type": "code",
      "source": [
        "import json\n",
        "\n",
        "# Get config\n",
        "config = text_vectorization.get_config()\n",
        "\n",
        "# Get vocabulary\n",
        "vocab = text_vectorization.get_vocabulary()\n",
        "\n",
        "# Save config to JSON\n",
        "with open(\"text_vectorization_config.json\", \"w\") as f:\n",
        "    json.dump(config, f)\n",
        "\n",
        "# Save vocabulary to plain text or JSON\n",
        "with open(\"text_vectorization_vocab.json\", \"w\") as f:\n",
        "    json.dump(vocab, f)\n"
      ],
      "metadata": {
        "id": "6JdE9pXcWa0e"
      },
      "execution_count": 14,
      "outputs": []
    },
    {
      "cell_type": "markdown",
      "source": [
        "### MLP: Test inference"
      ],
      "metadata": {
        "id": "5y5dd1sX6Ml3"
      }
    },
    {
      "cell_type": "code",
      "source": [
        "inputs = keras.Input(shape=(1,), dtype=\"string\")\n",
        "processed_inputs = text_vectorization(inputs)\n",
        "outputs = model(processed_inputs)\n",
        "inference_model = keras.Model(inputs, outputs)\n",
        "\n",
        "import tensorflow as tf\n",
        "raw_text_data = tf.convert_to_tensor([\n",
        "    [\"I feel absolutely the worst of the world today!\"],\n",
        "])\n",
        "\n",
        "predictions = inference_model(raw_text_data)\n",
        "\n",
        "emotion_labels = [\n",
        "    \"admiration\", \"amusement\", \"anger\", \"annoyance\", \"approval\", \"caring\", \"confusion\",\n",
        "    \"curiosity\", \"desire\", \"disappointment\", \"disapproval\", \"disgust\", \"embarrassment\",\n",
        "    \"excitement\", \"fear\", \"gratitude\", \"grief\", \"joy\", \"love\", \"nervousness\",\n",
        "    \"optimism\", \"pride\", \"realization\", \"relief\", \"remorse\", \"sadness\", \"surprise\", \"neutral\"\n",
        "]\n",
        "\n",
        "for label, prob in zip(emotion_labels, predictions[0]):\n",
        "    print(f\"{label:15}: {float(prob) * 100:.2f}%\")\n"
      ],
      "metadata": {
        "colab": {
          "base_uri": "https://localhost:8080/"
        },
        "id": "peWvqf0lQ622",
        "outputId": "8a08e5c7-554d-47bd-ca4b-b4f169f5f7fb"
      },
      "execution_count": 13,
      "outputs": [
        {
          "output_type": "stream",
          "name": "stdout",
          "text": [
            "admiration     : 1.41%\n",
            "amusement      : 0.68%\n",
            "anger          : 10.64%\n",
            "annoyance      : 20.69%\n",
            "approval       : 3.04%\n",
            "caring         : 1.25%\n",
            "confusion      : 1.01%\n",
            "curiosity      : 0.84%\n",
            "desire         : 0.66%\n",
            "disappointment : 23.07%\n",
            "disapproval    : 9.26%\n",
            "disgust        : 29.96%\n",
            "embarrassment  : 10.65%\n",
            "excitement     : 0.46%\n",
            "fear           : 6.28%\n",
            "gratitude      : 0.20%\n",
            "grief          : 1.26%\n",
            "joy            : 0.40%\n",
            "love           : 0.22%\n",
            "nervousness    : 3.01%\n",
            "optimism       : 2.69%\n",
            "pride          : 0.38%\n",
            "realization    : 3.34%\n",
            "relief         : 0.58%\n",
            "remorse        : 2.94%\n",
            "sadness        : 14.48%\n",
            "surprise       : 1.65%\n",
            "neutral        : 8.03%\n"
          ]
        }
      ]
    },
    {
      "cell_type": "markdown",
      "source": [
        "## LSTM"
      ],
      "metadata": {
        "id": "vBfvYsJA6W7Y"
      }
    },
    {
      "cell_type": "code",
      "source": [
        "from tensorflow.keras import layers\n",
        "max_length = 600\n",
        "max_tokens = 20000\n",
        "text_vectorization = layers.TextVectorization(\n",
        "    max_tokens=max_tokens,\n",
        "    output_mode=\"int\",\n",
        "    output_sequence_length=max_length,\n",
        "    )\n",
        "\n",
        "text_vectorization.adapt(text_only_train_ds)"
      ],
      "metadata": {
        "id": "soL-CgzGoOaK"
      },
      "execution_count": 12,
      "outputs": []
    },
    {
      "cell_type": "code",
      "source": [
        "int_train_ds = tf.data.Dataset.from_tensor_slices((train_ds['text'].values, train_ds.drop(columns=['text']).values)).map(\n",
        "    lambda x, y: (text_vectorization(x), y), num_parallel_calls=4)\n",
        "int_val_ds = tf.data.Dataset.from_tensor_slices((val_ds['text'].values, val_ds.drop(columns=['text']).values)).map(\n",
        "    lambda x, y: (text_vectorization(x), y), num_parallel_calls=4)\n",
        "int_test_ds = tf.data.Dataset.from_tensor_slices((test_ds['text'].values, test_ds.drop(columns=['text']).values)).map(\n",
        "    lambda x, y: (text_vectorization(x), y), num_parallel_calls=4)"
      ],
      "metadata": {
        "id": "8NBP3oNvtH9g"
      },
      "execution_count": 13,
      "outputs": []
    },
    {
      "cell_type": "code",
      "source": [
        "for example in int_train_ds.take(1):\n",
        "    print(\"Input shape:\", example[0].shape)\n",
        "    print(\"Label shape:\", example[1].shape)"
      ],
      "metadata": {
        "colab": {
          "base_uri": "https://localhost:8080/"
        },
        "id": "zoD85dfXoa-n",
        "outputId": "d500283e-f124-4213-c8ea-7731a0855c7d"
      },
      "execution_count": 14,
      "outputs": [
        {
          "output_type": "stream",
          "name": "stdout",
          "text": [
            "Input shape: (600,)\n",
            "Label shape: (28,)\n"
          ]
        }
      ]
    },
    {
      "cell_type": "markdown",
      "source": [
        "### LSTM: GRU + embedding + masking"
      ],
      "metadata": {
        "id": "KljGlDk2628x"
      }
    },
    {
      "cell_type": "code",
      "source": [
        "inputs = keras.Input(shape=(None,), dtype=\"int64\")\n",
        "embedded = layers.Embedding(\n",
        "input_dim=max_tokens, output_dim=256, mask_zero=True)(inputs)\n",
        "x = layers.Bidirectional(layers.LSTM(32))(embedded)\n",
        "x = layers.Dropout(0.5)(x)\n",
        "outputs = layers.Dense(1, activation=\"sigmoid\")(x)\n",
        "\n",
        "model = keras.Model(inputs, outputs)\n",
        "model.compile(optimizer=\"rmsprop\",\n",
        "              loss=\"binary_crossentropy\",\n",
        "              metrics=[\"accuracy\"])\n",
        "model.summary()\n",
        "callbacks = [\n",
        "    keras.callbacks.ModelCheckpoint(\"embeddings_bidir_gru_with_masking.keras\",\n",
        "                                    save_best_only=True)\n",
        "    ]\n",
        "\n",
        "model.fit(int_train_ds, validation_data=int_val_ds, epochs=10,callbacks=callbacks)\n",
        "model = keras.models.load_model(\"embeddings_bidir_gru_with_masking.keras\")\n",
        "print(f\"Test acc: {model.evaluate(int_test_ds)[1]:.3f}\")"
      ],
      "metadata": {
        "id": "wVG8SQgD6p1M"
      },
      "execution_count": null,
      "outputs": []
    },
    {
      "cell_type": "code",
      "source": [
        "model.save(\"emotions_lstm.h5\")\n",
        "\n",
        "import json\n",
        "\n",
        "# Get config\n",
        "config = text_vectorization.get_config()\n",
        "\n",
        "# Get vocabulary\n",
        "vocab = text_vectorization.get_vocabulary()\n",
        "\n",
        "# Save config to JSON\n",
        "with open(\"emotions_lstm_config.json\", \"w\") as f:\n",
        "    json.dump(config, f)\n",
        "\n",
        "# Save vocabulary to plain text or JSON\n",
        "with open(\"emotions_lstm_vocab.json\", \"w\") as f:\n",
        "    json.dump(vocab, f)\n"
      ],
      "metadata": {
        "id": "A-I3bXNL7EyZ"
      },
      "execution_count": null,
      "outputs": []
    },
    {
      "cell_type": "markdown",
      "source": [
        "### LSTM: Glove"
      ],
      "metadata": {
        "id": "0K6x1NM57Jd3"
      }
    },
    {
      "cell_type": "code",
      "source": [
        "!wget http://nlp.stanford.edu/data/glove.6B.zip\n",
        "!unzip -q glove.6B.zip"
      ],
      "metadata": {
        "colab": {
          "base_uri": "https://localhost:8080/"
        },
        "id": "B60SqcD_nr3i",
        "outputId": "4bb39bae-2cb8-48e2-d7c1-83bfe81c9f6b"
      },
      "execution_count": 15,
      "outputs": [
        {
          "output_type": "stream",
          "name": "stdout",
          "text": [
            "--2025-05-14 22:18:23--  http://nlp.stanford.edu/data/glove.6B.zip\n",
            "Resolving nlp.stanford.edu (nlp.stanford.edu)... 171.64.67.140\n",
            "Connecting to nlp.stanford.edu (nlp.stanford.edu)|171.64.67.140|:80... connected.\n",
            "HTTP request sent, awaiting response... 302 Found\n",
            "Location: https://nlp.stanford.edu/data/glove.6B.zip [following]\n",
            "--2025-05-14 22:18:23--  https://nlp.stanford.edu/data/glove.6B.zip\n",
            "Connecting to nlp.stanford.edu (nlp.stanford.edu)|171.64.67.140|:443... connected.\n",
            "HTTP request sent, awaiting response... 301 Moved Permanently\n",
            "Location: https://downloads.cs.stanford.edu/nlp/data/glove.6B.zip [following]\n",
            "--2025-05-14 22:18:24--  https://downloads.cs.stanford.edu/nlp/data/glove.6B.zip\n",
            "Resolving downloads.cs.stanford.edu (downloads.cs.stanford.edu)... 171.64.64.22\n",
            "Connecting to downloads.cs.stanford.edu (downloads.cs.stanford.edu)|171.64.64.22|:443... connected.\n",
            "HTTP request sent, awaiting response... 200 OK\n",
            "Length: 862182613 (822M) [application/zip]\n",
            "Saving to: ‘glove.6B.zip’\n",
            "\n",
            "glove.6B.zip        100%[===================>] 822.24M  5.15MB/s    in 3m 12s  \n",
            "\n",
            "2025-05-14 22:21:37 (4.28 MB/s) - ‘glove.6B.zip’ saved [862182613/862182613]\n",
            "\n"
          ]
        }
      ]
    },
    {
      "cell_type": "code",
      "source": [
        "import numpy as np\n",
        "\n",
        "path_to_glove_file = \"glove.6B.100d.txt\"\n",
        "\n",
        "embeddings_index = {}\n",
        "with open(path_to_glove_file) as f:\n",
        "  for line in f:\n",
        "    word, coefs = line.split(maxsplit=1)\n",
        "    coefs = np.fromstring(coefs, \"f\", sep=\" \")\n",
        "    embeddings_index[word] = coefs\n",
        "\n",
        "print(f\"Found {len(embeddings_index)} word vectors.\")"
      ],
      "metadata": {
        "colab": {
          "base_uri": "https://localhost:8080/"
        },
        "id": "64lYv4iUn6Vj",
        "outputId": "3fc60e49-6b7b-492b-d422-67cbccf10b1f"
      },
      "execution_count": 16,
      "outputs": [
        {
          "output_type": "stream",
          "name": "stdout",
          "text": [
            "Found 400000 word vectors.\n"
          ]
        }
      ]
    },
    {
      "cell_type": "code",
      "source": [
        "embedding_dim = 100\n",
        "\n",
        "vocabulary = text_vectorization.get_vocabulary()\n",
        "word_index = dict(zip(vocabulary, range(len(vocabulary))))\n",
        "\n",
        "embedding_matrix = np.zeros((max_tokens, embedding_dim))\n",
        "for word, i in word_index.items():\n",
        "  if i < max_tokens:\n",
        "    embedding_vector = embeddings_index.get(word)\n",
        "  if embedding_vector is not None:\n",
        "    embedding_matrix[i] = embedding_vector\n",
        "\n",
        "embedding_layer = layers.Embedding(\n",
        "    max_tokens,\n",
        "    embedding_dim,\n",
        "    embeddings_initializer=keras.initializers.Constant(embedding_matrix),\n",
        "    trainable=False,\n",
        "    mask_zero=True,\n",
        "    )"
      ],
      "metadata": {
        "id": "cEqk_sp9n_Xs"
      },
      "execution_count": 17,
      "outputs": []
    },
    {
      "cell_type": "code",
      "source": [
        "def preprocess_text(text, label):\n",
        "    # Filter out empty or whitespace-only text entries\n",
        "    text = tf.strings.strip(text)  # Strip leading/trailing whitespace\n",
        "    if text == \"\":\n",
        "        return False  # Skip this example\n",
        "\n",
        "    # Filter out entries that result in empty sequences after tokenization\n",
        "    tokenized_text = text_vectorization(text)\n",
        "    if tf.shape(tokenized_text)[0] == 0:\n",
        "        return False  # Skip this example\n",
        "\n",
        "    return True\n",
        "\n",
        "int_train_ds = tf.data.Dataset.from_tensor_slices((train_ds['text'].values, train_ds.drop(columns=['text']).values))\n",
        "int_train_ds = int_train_ds.filter(preprocess_text)  # Apply filtering\n",
        "int_train_ds = int_train_ds.map(lambda x, y: (text_vectorization(x), y), num_parallel_calls=4)\n",
        "int_train_ds = int_train_ds.batch(batch_size)\n",
        "\n",
        "int_val_ds = tf.data.Dataset.from_tensor_slices((val_ds['text'].values, val_ds.drop(columns=['text']).values))\n",
        "int_val_ds = int_val_ds.filter(preprocess_text)  # Apply filtering\n",
        "int_val_ds = int_val_ds.map(lambda x, y: (text_vectorization(x), y), num_parallel_calls=4)\n",
        "int_val_ds = int_val_ds.batch(batch_size)\n",
        "\n",
        "int_test_ds = tf.data.Dataset.from_tensor_slices((test_ds['text'].values, test_ds.drop(columns=['text']).values))\n",
        "int_test_ds = int_test_ds.filter(preprocess_text)  # Apply filtering\n",
        "int_test_ds = int_test_ds.map(lambda x, y: (text_vectorization(x), y), num_parallel_calls=4)\n",
        "int_test_ds = int_test_ds.batch(batch_size)"
      ],
      "metadata": {
        "id": "PxqcDwTvZyN-"
      },
      "execution_count": 18,
      "outputs": []
    },
    {
      "cell_type": "code",
      "source": [
        "inputs = keras.Input(shape=(None,), dtype=\"int64\")\n",
        "embedded = embedding_layer(inputs)\n",
        "x = layers.Bidirectional(layers.GRU(32))(embedded)\n",
        "x = layers.Dropout(0.5)(x)\n",
        "outputs = layers.Dense(28, activation=\"sigmoid\")(x)\n",
        "\n",
        "model = keras.Model(inputs, outputs)\n",
        "model.compile(optimizer=\"adam\",\n",
        "              loss=\"binary_crossentropy\",\n",
        "              metrics=[\"accuracy\", AUC(multi_label=True)])\n",
        "\n",
        "model.summary()\n",
        "\n",
        "callbacks = [\n",
        "    keras.callbacks.ModelCheckpoint(\"glove_embeddings_sequence_model.keras\", save_best_only=True),\n",
        "    keras.callbacks.EarlyStopping(patience=3, restore_best_weights=True),\n",
        "    keras.callbacks.ReduceLROnPlateau(patience=2, factor=0.2)\n",
        "]\n",
        "\n",
        "model.fit(int_train_ds, validation_data=int_val_ds, epochs=50, callbacks=callbacks)\n",
        "model = keras.models.load_model(\"glove_embeddings_sequence_model.keras\")\n",
        "print(f\"Test acc: {model.evaluate(int_test_ds)[1]:.3f}\")"
      ],
      "metadata": {
        "colab": {
          "base_uri": "https://localhost:8080/",
          "height": 1000
        },
        "id": "TkELMR-tn_7o",
        "outputId": "356952f8-df15-4ebf-86dd-9647ba86165d"
      },
      "execution_count": 19,
      "outputs": [
        {
          "output_type": "display_data",
          "data": {
            "text/plain": [
              "\u001b[1mModel: \"functional_3\"\u001b[0m\n"
            ],
            "text/html": [
              "<pre style=\"white-space:pre;overflow-x:auto;line-height:normal;font-family:Menlo,'DejaVu Sans Mono',consolas,'Courier New',monospace\"><span style=\"font-weight: bold\">Model: \"functional_3\"</span>\n",
              "</pre>\n"
            ]
          },
          "metadata": {}
        },
        {
          "output_type": "display_data",
          "data": {
            "text/plain": [
              "┏━━━━━━━━━━━━━━━━━━━━━┳━━━━━━━━━━━━━━━━━━━┳━━━━━━━━━━━━┳━━━━━━━━━━━━━━━━━━━┓\n",
              "┃\u001b[1m \u001b[0m\u001b[1mLayer (type)       \u001b[0m\u001b[1m \u001b[0m┃\u001b[1m \u001b[0m\u001b[1mOutput Shape     \u001b[0m\u001b[1m \u001b[0m┃\u001b[1m \u001b[0m\u001b[1m   Param #\u001b[0m\u001b[1m \u001b[0m┃\u001b[1m \u001b[0m\u001b[1mConnected to     \u001b[0m\u001b[1m \u001b[0m┃\n",
              "┡━━━━━━━━━━━━━━━━━━━━━╇━━━━━━━━━━━━━━━━━━━╇━━━━━━━━━━━━╇━━━━━━━━━━━━━━━━━━━┩\n",
              "│ input_layer_3       │ (\u001b[38;5;45mNone\u001b[0m, \u001b[38;5;45mNone\u001b[0m)      │          \u001b[38;5;34m0\u001b[0m │ -                 │\n",
              "│ (\u001b[38;5;33mInputLayer\u001b[0m)        │                   │            │                   │\n",
              "├─────────────────────┼───────────────────┼────────────┼───────────────────┤\n",
              "│ embedding           │ (\u001b[38;5;45mNone\u001b[0m, \u001b[38;5;45mNone\u001b[0m, \u001b[38;5;34m100\u001b[0m) │  \u001b[38;5;34m2,000,000\u001b[0m │ input_layer_3[\u001b[38;5;34m0\u001b[0m]… │\n",
              "│ (\u001b[38;5;33mEmbedding\u001b[0m)         │                   │            │                   │\n",
              "├─────────────────────┼───────────────────┼────────────┼───────────────────┤\n",
              "│ not_equal           │ (\u001b[38;5;45mNone\u001b[0m, \u001b[38;5;45mNone\u001b[0m)      │          \u001b[38;5;34m0\u001b[0m │ input_layer_3[\u001b[38;5;34m0\u001b[0m]… │\n",
              "│ (\u001b[38;5;33mNotEqual\u001b[0m)          │                   │            │                   │\n",
              "├─────────────────────┼───────────────────┼────────────┼───────────────────┤\n",
              "│ bidirectional       │ (\u001b[38;5;45mNone\u001b[0m, \u001b[38;5;34m64\u001b[0m)        │     \u001b[38;5;34m25,728\u001b[0m │ embedding[\u001b[38;5;34m0\u001b[0m][\u001b[38;5;34m0\u001b[0m],  │\n",
              "│ (\u001b[38;5;33mBidirectional\u001b[0m)     │                   │            │ not_equal[\u001b[38;5;34m0\u001b[0m][\u001b[38;5;34m0\u001b[0m]   │\n",
              "├─────────────────────┼───────────────────┼────────────┼───────────────────┤\n",
              "│ dropout_4 (\u001b[38;5;33mDropout\u001b[0m) │ (\u001b[38;5;45mNone\u001b[0m, \u001b[38;5;34m64\u001b[0m)        │          \u001b[38;5;34m0\u001b[0m │ bidirectional[\u001b[38;5;34m0\u001b[0m]… │\n",
              "├─────────────────────┼───────────────────┼────────────┼───────────────────┤\n",
              "│ dense_7 (\u001b[38;5;33mDense\u001b[0m)     │ (\u001b[38;5;45mNone\u001b[0m, \u001b[38;5;34m28\u001b[0m)        │      \u001b[38;5;34m1,820\u001b[0m │ dropout_4[\u001b[38;5;34m0\u001b[0m][\u001b[38;5;34m0\u001b[0m]   │\n",
              "└─────────────────────┴───────────────────┴────────────┴───────────────────┘\n"
            ],
            "text/html": [
              "<pre style=\"white-space:pre;overflow-x:auto;line-height:normal;font-family:Menlo,'DejaVu Sans Mono',consolas,'Courier New',monospace\">┏━━━━━━━━━━━━━━━━━━━━━┳━━━━━━━━━━━━━━━━━━━┳━━━━━━━━━━━━┳━━━━━━━━━━━━━━━━━━━┓\n",
              "┃<span style=\"font-weight: bold\"> Layer (type)        </span>┃<span style=\"font-weight: bold\"> Output Shape      </span>┃<span style=\"font-weight: bold\">    Param # </span>┃<span style=\"font-weight: bold\"> Connected to      </span>┃\n",
              "┡━━━━━━━━━━━━━━━━━━━━━╇━━━━━━━━━━━━━━━━━━━╇━━━━━━━━━━━━╇━━━━━━━━━━━━━━━━━━━┩\n",
              "│ input_layer_3       │ (<span style=\"color: #00d7ff; text-decoration-color: #00d7ff\">None</span>, <span style=\"color: #00d7ff; text-decoration-color: #00d7ff\">None</span>)      │          <span style=\"color: #00af00; text-decoration-color: #00af00\">0</span> │ -                 │\n",
              "│ (<span style=\"color: #0087ff; text-decoration-color: #0087ff\">InputLayer</span>)        │                   │            │                   │\n",
              "├─────────────────────┼───────────────────┼────────────┼───────────────────┤\n",
              "│ embedding           │ (<span style=\"color: #00d7ff; text-decoration-color: #00d7ff\">None</span>, <span style=\"color: #00d7ff; text-decoration-color: #00d7ff\">None</span>, <span style=\"color: #00af00; text-decoration-color: #00af00\">100</span>) │  <span style=\"color: #00af00; text-decoration-color: #00af00\">2,000,000</span> │ input_layer_3[<span style=\"color: #00af00; text-decoration-color: #00af00\">0</span>]… │\n",
              "│ (<span style=\"color: #0087ff; text-decoration-color: #0087ff\">Embedding</span>)         │                   │            │                   │\n",
              "├─────────────────────┼───────────────────┼────────────┼───────────────────┤\n",
              "│ not_equal           │ (<span style=\"color: #00d7ff; text-decoration-color: #00d7ff\">None</span>, <span style=\"color: #00d7ff; text-decoration-color: #00d7ff\">None</span>)      │          <span style=\"color: #00af00; text-decoration-color: #00af00\">0</span> │ input_layer_3[<span style=\"color: #00af00; text-decoration-color: #00af00\">0</span>]… │\n",
              "│ (<span style=\"color: #0087ff; text-decoration-color: #0087ff\">NotEqual</span>)          │                   │            │                   │\n",
              "├─────────────────────┼───────────────────┼────────────┼───────────────────┤\n",
              "│ bidirectional       │ (<span style=\"color: #00d7ff; text-decoration-color: #00d7ff\">None</span>, <span style=\"color: #00af00; text-decoration-color: #00af00\">64</span>)        │     <span style=\"color: #00af00; text-decoration-color: #00af00\">25,728</span> │ embedding[<span style=\"color: #00af00; text-decoration-color: #00af00\">0</span>][<span style=\"color: #00af00; text-decoration-color: #00af00\">0</span>],  │\n",
              "│ (<span style=\"color: #0087ff; text-decoration-color: #0087ff\">Bidirectional</span>)     │                   │            │ not_equal[<span style=\"color: #00af00; text-decoration-color: #00af00\">0</span>][<span style=\"color: #00af00; text-decoration-color: #00af00\">0</span>]   │\n",
              "├─────────────────────┼───────────────────┼────────────┼───────────────────┤\n",
              "│ dropout_4 (<span style=\"color: #0087ff; text-decoration-color: #0087ff\">Dropout</span>) │ (<span style=\"color: #00d7ff; text-decoration-color: #00d7ff\">None</span>, <span style=\"color: #00af00; text-decoration-color: #00af00\">64</span>)        │          <span style=\"color: #00af00; text-decoration-color: #00af00\">0</span> │ bidirectional[<span style=\"color: #00af00; text-decoration-color: #00af00\">0</span>]… │\n",
              "├─────────────────────┼───────────────────┼────────────┼───────────────────┤\n",
              "│ dense_7 (<span style=\"color: #0087ff; text-decoration-color: #0087ff\">Dense</span>)     │ (<span style=\"color: #00d7ff; text-decoration-color: #00d7ff\">None</span>, <span style=\"color: #00af00; text-decoration-color: #00af00\">28</span>)        │      <span style=\"color: #00af00; text-decoration-color: #00af00\">1,820</span> │ dropout_4[<span style=\"color: #00af00; text-decoration-color: #00af00\">0</span>][<span style=\"color: #00af00; text-decoration-color: #00af00\">0</span>]   │\n",
              "└─────────────────────┴───────────────────┴────────────┴───────────────────┘\n",
              "</pre>\n"
            ]
          },
          "metadata": {}
        },
        {
          "output_type": "display_data",
          "data": {
            "text/plain": [
              "\u001b[1m Total params: \u001b[0m\u001b[38;5;34m2,027,548\u001b[0m (7.73 MB)\n"
            ],
            "text/html": [
              "<pre style=\"white-space:pre;overflow-x:auto;line-height:normal;font-family:Menlo,'DejaVu Sans Mono',consolas,'Courier New',monospace\"><span style=\"font-weight: bold\"> Total params: </span><span style=\"color: #00af00; text-decoration-color: #00af00\">2,027,548</span> (7.73 MB)\n",
              "</pre>\n"
            ]
          },
          "metadata": {}
        },
        {
          "output_type": "display_data",
          "data": {
            "text/plain": [
              "\u001b[1m Trainable params: \u001b[0m\u001b[38;5;34m27,548\u001b[0m (107.61 KB)\n"
            ],
            "text/html": [
              "<pre style=\"white-space:pre;overflow-x:auto;line-height:normal;font-family:Menlo,'DejaVu Sans Mono',consolas,'Courier New',monospace\"><span style=\"font-weight: bold\"> Trainable params: </span><span style=\"color: #00af00; text-decoration-color: #00af00\">27,548</span> (107.61 KB)\n",
              "</pre>\n"
            ]
          },
          "metadata": {}
        },
        {
          "output_type": "display_data",
          "data": {
            "text/plain": [
              "\u001b[1m Non-trainable params: \u001b[0m\u001b[38;5;34m2,000,000\u001b[0m (7.63 MB)\n"
            ],
            "text/html": [
              "<pre style=\"white-space:pre;overflow-x:auto;line-height:normal;font-family:Menlo,'DejaVu Sans Mono',consolas,'Courier New',monospace\"><span style=\"font-weight: bold\"> Non-trainable params: </span><span style=\"color: #00af00; text-decoration-color: #00af00\">2,000,000</span> (7.63 MB)\n",
              "</pre>\n"
            ]
          },
          "metadata": {}
        },
        {
          "output_type": "stream",
          "name": "stdout",
          "text": [
            "Epoch 1/50\n",
            "   1748/Unknown \u001b[1m29s\u001b[0m 13ms/step - accuracy: 0.2211 - auc_3: 0.5253 - loss: 0.2054"
          ]
        },
        {
          "output_type": "stream",
          "name": "stderr",
          "text": [
            "/usr/local/lib/python3.11/dist-packages/keras/src/trainers/epoch_iterator.py:151: UserWarning: Your input ran out of data; interrupting training. Make sure that your dataset or generator can generate at least `steps_per_epoch * epochs` batches. You may need to use the `.repeat()` function when building your dataset.\n",
            "  self._interrupted_warning()\n"
          ]
        },
        {
          "output_type": "stream",
          "name": "stdout",
          "text": [
            "\b\b\b\b\b\b\b\b\b\b\b\b\b\b\b\b\b\b\b\b\b\b\b\b\b\b\b\b\b\b\b\b\b\b\b\b\b\b\b\b\b\b\b\b\b\b\b\b\b\b\b\b\b\b\b\b\b\b\b\b\b\b\b\b\b\b\b\b\b\b\b\b\b\b\b\b\b\b\b\r\u001b[1m1750/1750\u001b[0m \u001b[32m━━━━━━━━━━━━━━━━━━━━\u001b[0m\u001b[37m\u001b[0m \u001b[1m39s\u001b[0m 19ms/step - accuracy: 0.2212 - auc_3: 0.5254 - loss: 0.2054 - val_accuracy: 0.3379 - val_auc_3: 0.7251 - val_loss: 0.1379 - learning_rate: 0.0010\n",
            "Epoch 2/50\n",
            "\u001b[1m1750/1750\u001b[0m \u001b[32m━━━━━━━━━━━━━━━━━━━━\u001b[0m\u001b[37m\u001b[0m \u001b[1m33s\u001b[0m 19ms/step - accuracy: 0.3427 - auc_3: 0.6813 - loss: 0.1430 - val_accuracy: 0.3581 - val_auc_3: 0.7655 - val_loss: 0.1325 - learning_rate: 0.0010\n",
            "Epoch 3/50\n",
            "\u001b[1m1750/1750\u001b[0m \u001b[32m━━━━━━━━━━━━━━━━━━━━\u001b[0m\u001b[37m\u001b[0m \u001b[1m32s\u001b[0m 18ms/step - accuracy: 0.3553 - auc_3: 0.7184 - loss: 0.1383 - val_accuracy: 0.3656 - val_auc_3: 0.7835 - val_loss: 0.1299 - learning_rate: 0.0010\n",
            "Epoch 4/50\n",
            "\u001b[1m1750/1750\u001b[0m \u001b[32m━━━━━━━━━━━━━━━━━━━━\u001b[0m\u001b[37m\u001b[0m \u001b[1m32s\u001b[0m 18ms/step - accuracy: 0.3612 - auc_3: 0.7367 - loss: 0.1360 - val_accuracy: 0.3682 - val_auc_3: 0.7901 - val_loss: 0.1288 - learning_rate: 0.0010\n",
            "Epoch 5/50\n",
            "\u001b[1m1750/1750\u001b[0m \u001b[32m━━━━━━━━━━━━━━━━━━━━\u001b[0m\u001b[37m\u001b[0m \u001b[1m32s\u001b[0m 18ms/step - accuracy: 0.3639 - auc_3: 0.7459 - loss: 0.1346 - val_accuracy: 0.3714 - val_auc_3: 0.7955 - val_loss: 0.1278 - learning_rate: 0.0010\n",
            "Epoch 6/50\n",
            "\u001b[1m1750/1750\u001b[0m \u001b[32m━━━━━━━━━━━━━━━━━━━━\u001b[0m\u001b[37m\u001b[0m \u001b[1m32s\u001b[0m 18ms/step - accuracy: 0.3674 - auc_3: 0.7555 - loss: 0.1334 - val_accuracy: 0.3752 - val_auc_3: 0.8004 - val_loss: 0.1271 - learning_rate: 0.0010\n",
            "Epoch 7/50\n",
            "\u001b[1m1750/1750\u001b[0m \u001b[32m━━━━━━━━━━━━━━━━━━━━\u001b[0m\u001b[37m\u001b[0m \u001b[1m32s\u001b[0m 18ms/step - accuracy: 0.3702 - auc_3: 0.7613 - loss: 0.1325 - val_accuracy: 0.3745 - val_auc_3: 0.8013 - val_loss: 0.1267 - learning_rate: 0.0010\n",
            "Epoch 8/50\n",
            "\u001b[1m1750/1750\u001b[0m \u001b[32m━━━━━━━━━━━━━━━━━━━━\u001b[0m\u001b[37m\u001b[0m \u001b[1m32s\u001b[0m 18ms/step - accuracy: 0.3724 - auc_3: 0.7641 - loss: 0.1317 - val_accuracy: 0.3778 - val_auc_3: 0.8039 - val_loss: 0.1261 - learning_rate: 0.0010\n",
            "Epoch 9/50\n",
            "\u001b[1m1750/1750\u001b[0m \u001b[32m━━━━━━━━━━━━━━━━━━━━\u001b[0m\u001b[37m\u001b[0m \u001b[1m32s\u001b[0m 18ms/step - accuracy: 0.3732 - auc_3: 0.7706 - loss: 0.1312 - val_accuracy: 0.3784 - val_auc_3: 0.8050 - val_loss: 0.1260 - learning_rate: 0.0010\n",
            "Epoch 10/50\n",
            "\u001b[1m1750/1750\u001b[0m \u001b[32m━━━━━━━━━━━━━━━━━━━━\u001b[0m\u001b[37m\u001b[0m \u001b[1m32s\u001b[0m 18ms/step - accuracy: 0.3742 - auc_3: 0.7754 - loss: 0.1306 - val_accuracy: 0.3811 - val_auc_3: 0.8071 - val_loss: 0.1254 - learning_rate: 0.0010\n",
            "Epoch 11/50\n",
            "\u001b[1m1750/1750\u001b[0m \u001b[32m━━━━━━━━━━━━━━━━━━━━\u001b[0m\u001b[37m\u001b[0m \u001b[1m32s\u001b[0m 18ms/step - accuracy: 0.3762 - auc_3: 0.7772 - loss: 0.1300 - val_accuracy: 0.3820 - val_auc_3: 0.8082 - val_loss: 0.1252 - learning_rate: 0.0010\n",
            "Epoch 12/50\n",
            "\u001b[1m1750/1750\u001b[0m \u001b[32m━━━━━━━━━━━━━━━━━━━━\u001b[0m\u001b[37m\u001b[0m \u001b[1m32s\u001b[0m 18ms/step - accuracy: 0.3783 - auc_3: 0.7799 - loss: 0.1296 - val_accuracy: 0.3819 - val_auc_3: 0.8080 - val_loss: 0.1251 - learning_rate: 0.0010\n",
            "Epoch 13/50\n",
            "\u001b[1m1750/1750\u001b[0m \u001b[32m━━━━━━━━━━━━━━━━━━━━\u001b[0m\u001b[37m\u001b[0m \u001b[1m33s\u001b[0m 19ms/step - accuracy: 0.3787 - auc_3: 0.7827 - loss: 0.1291 - val_accuracy: 0.3806 - val_auc_3: 0.8103 - val_loss: 0.1251 - learning_rate: 0.0010\n",
            "Epoch 14/50\n",
            "\u001b[1m1750/1750\u001b[0m \u001b[32m━━━━━━━━━━━━━━━━━━━━\u001b[0m\u001b[37m\u001b[0m \u001b[1m32s\u001b[0m 18ms/step - accuracy: 0.3827 - auc_3: 0.7858 - loss: 0.1284 - val_accuracy: 0.3861 - val_auc_3: 0.8106 - val_loss: 0.1242 - learning_rate: 2.0000e-04\n",
            "Epoch 15/50\n",
            "\u001b[1m1750/1750\u001b[0m \u001b[32m━━━━━━━━━━━━━━━━━━━━\u001b[0m\u001b[37m\u001b[0m \u001b[1m32s\u001b[0m 19ms/step - accuracy: 0.3823 - auc_3: 0.7881 - loss: 0.1280 - val_accuracy: 0.3870 - val_auc_3: 0.8116 - val_loss: 0.1242 - learning_rate: 2.0000e-04\n",
            "Epoch 16/50\n",
            "\u001b[1m1750/1750\u001b[0m \u001b[32m━━━━━━━━━━━━━━━━━━━━\u001b[0m\u001b[37m\u001b[0m \u001b[1m32s\u001b[0m 18ms/step - accuracy: 0.3822 - auc_3: 0.7915 - loss: 0.1279 - val_accuracy: 0.3878 - val_auc_3: 0.8111 - val_loss: 0.1241 - learning_rate: 2.0000e-04\n",
            "Epoch 17/50\n",
            "\u001b[1m1750/1750\u001b[0m \u001b[32m━━━━━━━━━━━━━━━━━━━━\u001b[0m\u001b[37m\u001b[0m \u001b[1m32s\u001b[0m 18ms/step - accuracy: 0.3828 - auc_3: 0.7899 - loss: 0.1278 - val_accuracy: 0.3881 - val_auc_3: 0.8117 - val_loss: 0.1240 - learning_rate: 2.0000e-04\n",
            "Epoch 18/50\n",
            "\u001b[1m1750/1750\u001b[0m \u001b[32m━━━━━━━━━━━━━━━━━━━━\u001b[0m\u001b[37m\u001b[0m \u001b[1m30s\u001b[0m 17ms/step - accuracy: 0.3840 - auc_3: 0.7918 - loss: 0.1277 - val_accuracy: 0.3872 - val_auc_3: 0.8121 - val_loss: 0.1240 - learning_rate: 2.0000e-04\n",
            "Epoch 19/50\n",
            "\u001b[1m1750/1750\u001b[0m \u001b[32m━━━━━━━━━━━━━━━━━━━━\u001b[0m\u001b[37m\u001b[0m \u001b[1m32s\u001b[0m 18ms/step - accuracy: 0.3841 - auc_3: 0.7925 - loss: 0.1275 - val_accuracy: 0.3878 - val_auc_3: 0.8125 - val_loss: 0.1240 - learning_rate: 2.0000e-04\n",
            "Epoch 20/50\n",
            "\u001b[1m1750/1750\u001b[0m \u001b[32m━━━━━━━━━━━━━━━━━━━━\u001b[0m\u001b[37m\u001b[0m \u001b[1m32s\u001b[0m 18ms/step - accuracy: 0.3843 - auc_3: 0.7941 - loss: 0.1272 - val_accuracy: 0.3883 - val_auc_3: 0.8132 - val_loss: 0.1238 - learning_rate: 4.0000e-05\n",
            "Epoch 21/50\n",
            "\u001b[1m1750/1750\u001b[0m \u001b[32m━━━━━━━━━━━━━━━━━━━━\u001b[0m\u001b[37m\u001b[0m \u001b[1m29s\u001b[0m 16ms/step - accuracy: 0.3856 - auc_3: 0.7937 - loss: 0.1273 - val_accuracy: 0.3883 - val_auc_3: 0.8129 - val_loss: 0.1238 - learning_rate: 4.0000e-05\n",
            "Epoch 22/50\n",
            "\u001b[1m1750/1750\u001b[0m \u001b[32m━━━━━━━━━━━━━━━━━━━━\u001b[0m\u001b[37m\u001b[0m \u001b[1m32s\u001b[0m 18ms/step - accuracy: 0.3850 - auc_3: 0.7953 - loss: 0.1272 - val_accuracy: 0.3886 - val_auc_3: 0.8130 - val_loss: 0.1238 - learning_rate: 4.0000e-05\n",
            "Epoch 23/50\n",
            "\u001b[1m1750/1750\u001b[0m \u001b[32m━━━━━━━━━━━━━━━━━━━━\u001b[0m\u001b[37m\u001b[0m \u001b[1m32s\u001b[0m 18ms/step - accuracy: 0.3842 - auc_3: 0.7949 - loss: 0.1272 - val_accuracy: 0.3882 - val_auc_3: 0.8128 - val_loss: 0.1238 - learning_rate: 8.0000e-06\n",
            "Epoch 24/50\n",
            "\u001b[1m1750/1750\u001b[0m \u001b[32m━━━━━━━━━━━━━━━━━━━━\u001b[0m\u001b[37m\u001b[0m \u001b[1m32s\u001b[0m 18ms/step - accuracy: 0.3847 - auc_3: 0.7942 - loss: 0.1271 - val_accuracy: 0.3880 - val_auc_3: 0.8129 - val_loss: 0.1238 - learning_rate: 8.0000e-06\n",
            "Epoch 25/50\n",
            "\u001b[1m1750/1750\u001b[0m \u001b[32m━━━━━━━━━━━━━━━━━━━━\u001b[0m\u001b[37m\u001b[0m \u001b[1m29s\u001b[0m 16ms/step - accuracy: 0.3855 - auc_3: 0.7942 - loss: 0.1272 - val_accuracy: 0.3882 - val_auc_3: 0.8129 - val_loss: 0.1238 - learning_rate: 1.6000e-06\n",
            "Epoch 26/50\n",
            "\u001b[1m1750/1750\u001b[0m \u001b[32m━━━━━━━━━━━━━━━━━━━━\u001b[0m\u001b[37m\u001b[0m \u001b[1m29s\u001b[0m 17ms/step - accuracy: 0.3841 - auc_3: 0.7951 - loss: 0.1272 - val_accuracy: 0.3883 - val_auc_3: 0.8129 - val_loss: 0.1238 - learning_rate: 1.6000e-06\n",
            "Epoch 27/50\n",
            "\u001b[1m1750/1750\u001b[0m \u001b[32m━━━━━━━━━━━━━━━━━━━━\u001b[0m\u001b[37m\u001b[0m \u001b[1m29s\u001b[0m 16ms/step - accuracy: 0.3836 - auc_3: 0.7959 - loss: 0.1271 - val_accuracy: 0.3884 - val_auc_3: 0.8129 - val_loss: 0.1238 - learning_rate: 3.2000e-07\n",
            "\u001b[1m1113/1113\u001b[0m \u001b[32m━━━━━━━━━━━━━━━━━━━━\u001b[0m\u001b[37m\u001b[0m \u001b[1m16s\u001b[0m 13ms/step - accuracy: 0.3933 - auc_3: 0.8117 - loss: 0.1236\n",
            "Test acc: 0.392\n"
          ]
        }
      ]
    },
    {
      "cell_type": "code",
      "source": [
        "model.save(\"emotions_glove.h5\")\n",
        "\n",
        "import json\n",
        "\n",
        "# Get config\n",
        "config = text_vectorization.get_config()\n",
        "\n",
        "# Get vocabulary\n",
        "vocab = text_vectorization.get_vocabulary()\n",
        "\n",
        "# Save config to JSON\n",
        "with open(\"emotions_glove_text_vectorization_config.json\", \"w\") as f:\n",
        "    json.dump(config, f)\n",
        "\n",
        "# Save vocabulary to plain text or JSON\n",
        "with open(\"emotions_glove_text_vectorization_vocab.json\", \"w\") as f:\n",
        "    json.dump(vocab, f)\n"
      ],
      "metadata": {
        "colab": {
          "base_uri": "https://localhost:8080/"
        },
        "id": "Xf6sXtEq5Lfi",
        "outputId": "878f6f83-124d-46fc-bdcf-6419c482598a"
      },
      "execution_count": 21,
      "outputs": [
        {
          "output_type": "stream",
          "name": "stderr",
          "text": [
            "WARNING:absl:You are saving your model as an HDF5 file via `model.save()` or `keras.saving.save_model(model)`. This file format is considered legacy. We recommend using instead the native Keras format, e.g. `model.save('my_model.keras')` or `keras.saving.save_model(model, 'my_model.keras')`. \n"
          ]
        }
      ]
    },
    {
      "cell_type": "markdown",
      "source": [
        "### LSTM: Test inference"
      ],
      "metadata": {
        "id": "9zHCJzIA7ZlP"
      }
    },
    {
      "cell_type": "code",
      "source": [
        "inputs = keras.Input(shape=(1,), dtype=\"string\")\n",
        "processed_inputs = text_vectorization(inputs)\n",
        "outputs = model(processed_inputs)\n",
        "inference_model = keras.Model(inputs, outputs)\n",
        "\n",
        "import tensorflow as tf\n",
        "raw_text_data = tf.convert_to_tensor([\n",
        "    [\"I’m overflowing with pure joy and gratitude today—the sun is shining, my heart is light, every moment feels magical, and I can’t stop smiling! Life is beautiful, full of kindness, laughter, and endless possibility. Everything feels right, and I’m so excited for what’s ahead. Happiness is absolutely everywhere!\"],\n",
        "])\n",
        "\n",
        "predictions = inference_model(raw_text_data)\n",
        "\n",
        "emotion_labels = [\n",
        "    \"admiration\", \"amusement\", \"anger\", \"annoyance\", \"approval\", \"caring\", \"confusion\",\n",
        "    \"curiosity\", \"desire\", \"disappointment\", \"disapproval\", \"disgust\", \"embarrassment\",\n",
        "    \"excitement\", \"fear\", \"gratitude\", \"grief\", \"joy\", \"love\", \"nervousness\",\n",
        "    \"optimism\", \"pride\", \"realization\", \"relief\", \"remorse\", \"sadness\", \"surprise\", \"neutral\"\n",
        "]\n",
        "\n",
        "for label, prob in zip(emotion_labels, predictions[0]):\n",
        "    print(f\"{label:15}: {float(prob) * 100:.2f}%\")\n"
      ],
      "metadata": {
        "colab": {
          "base_uri": "https://localhost:8080/"
        },
        "id": "BX1ucT1iXcor",
        "outputId": "70568a72-1708-4315-c932-ce9db66fe50b"
      },
      "execution_count": 22,
      "outputs": [
        {
          "output_type": "stream",
          "name": "stdout",
          "text": [
            "admiration     : 32.14%\n",
            "amusement      : 5.43%\n",
            "anger          : 0.24%\n",
            "annoyance      : 0.81%\n",
            "approval       : 9.77%\n",
            "caring         : 1.51%\n",
            "confusion      : 0.29%\n",
            "curiosity      : 1.12%\n",
            "desire         : 0.82%\n",
            "disappointment : 0.75%\n",
            "disapproval    : 0.26%\n",
            "disgust        : 0.11%\n",
            "embarrassment  : 0.14%\n",
            "excitement     : 25.95%\n",
            "fear           : 0.14%\n",
            "gratitude      : 4.49%\n",
            "grief          : 0.04%\n",
            "joy            : 40.65%\n",
            "love           : 5.46%\n",
            "nervousness    : 0.19%\n",
            "optimism       : 3.76%\n",
            "pride          : 1.77%\n",
            "realization    : 2.53%\n",
            "relief         : 1.28%\n",
            "remorse        : 0.11%\n",
            "sadness        : 0.37%\n",
            "surprise       : 3.16%\n",
            "neutral        : 7.02%\n"
          ]
        }
      ]
    },
    {
      "cell_type": "markdown",
      "source": [
        "## Transformer\n",
        "\n",
        "Preprocess the text data to make it a simpler model. We will only consider the most common 10,000 words. Allow for a maximum sequence length of 250. This keeps the model simple and faster"
      ],
      "metadata": {
        "id": "x-L_RA7gWTQ3"
      }
    },
    {
      "cell_type": "code",
      "source": [
        "max_features = 15000\n",
        "sequence_length = 250\n",
        "vectorize_layer = layers.TextVectorization(\n",
        "    max_tokens=max_features,\n",
        "    output_mode='int',\n",
        "    output_sequence_length=sequence_length\n",
        ")\n",
        "\n",
        "AUTOTUNE = tf.data.AUTOTUNE\n",
        "train_text = tf.data.Dataset.from_tensor_slices(train_ds['text'].values)\n",
        "train_text = train_text.batch(128).prefetch(AUTOTUNE)  # Batch and prefetch for performance\n",
        "\n",
        "vectorize_layer.adapt(train_text)\n"
      ],
      "metadata": {
        "id": "ccWMfYZ3epXJ"
      },
      "execution_count": 24,
      "outputs": []
    },
    {
      "cell_type": "code",
      "source": [
        "train_ds_2 = (\n",
        "    tf.data.Dataset.from_tensor_slices((train_ds['text'].values, train_ds.drop(columns=['text']).values))\n",
        "    .batch(128)\n",
        "    .map(lambda x, y: (vectorize_layer(x), y))\n",
        "    .prefetch(AUTOTUNE)\n",
        ")\n",
        "\n",
        "val_ds_2 = (\n",
        "    tf.data.Dataset.from_tensor_slices((val_ds['text'].values, val_ds.drop(columns=['text']).values))\n",
        "    .batch(128)\n",
        "    .map(lambda x, y: (vectorize_layer(x), y))\n",
        "    .prefetch(AUTOTUNE)\n",
        ")\n",
        "\n",
        "test_ds_2 = (\n",
        "    tf.data.Dataset.from_tensor_slices((test_ds['text'].values, test_ds.drop(columns=['text']).values))\n",
        "    .batch(128)\n",
        "    .map(lambda x, y: (vectorize_layer(x), y))\n",
        "    .prefetch(AUTOTUNE)\n",
        ")\n",
        "\n",
        "# Check shape\n",
        "for x_batch, y_batch in train_ds_2.take(1):\n",
        "    print(x_batch.shape)  # (batch_size, 250)\n",
        "    print(y_batch.shape)  # (batch_size, 28)\n"
      ],
      "metadata": {
        "colab": {
          "base_uri": "https://localhost:8080/"
        },
        "id": "a0BogYlQUG3j",
        "outputId": "2d6a84b1-b16a-4956-a104-bef378441895"
      },
      "execution_count": 25,
      "outputs": [
        {
          "output_type": "stream",
          "name": "stdout",
          "text": [
            "(128, 250)\n",
            "(128, 28)\n"
          ]
        }
      ]
    },
    {
      "cell_type": "code",
      "source": [
        "# Create positional encoding\n",
        "def get_positional_encoding(seq_length, d_model):\n",
        "    # Calculate positional encoding\n",
        "    positions = np.arange(seq_length)[:, np.newaxis]\n",
        "    depths = np.arange(d_model)[np.newaxis, :] // 2 * 2  # Integer division\n",
        "\n",
        "    # Create angle rates\n",
        "    angle_rates = 1 / np.power(10000, (2 * (depths // 2)) / np.float32(d_model))\n",
        "    angle_rads = positions * angle_rates\n",
        "\n",
        "    # Apply sin/cos to even/odd indices\n",
        "    pos_encoding = np.zeros(angle_rads.shape)\n",
        "    pos_encoding[:, 0::2] = np.sin(angle_rads[:, 0::2])\n",
        "    pos_encoding[:, 1::2] = np.cos(angle_rads[:, 1::2])\n",
        "\n",
        "    return tf.cast(pos_encoding, dtype=tf.float32)\n",
        "\n",
        "\n",
        "# Create a basic transformer model\n",
        "def create_transformer_model():\n",
        "    inputs = layers.Input(shape=(sequence_length,))\n",
        "\n",
        "    embdding_dim = 128\n",
        "\n",
        "    # Embedding layer for text\n",
        "    embedding_layer = layers.Embedding(max_features,  embdding_dim,  mask_zero=True)(inputs)\n",
        "\n",
        "    # Embedding layer for positional encoding\n",
        "    pos_encoding = get_positional_encoding(sequence_length,  embdding_dim)\n",
        "    pos_encoding = tf.keras.backend.constant(pos_encoding)\n",
        "\n",
        "    embedded_with_pos = embedding_layer + pos_encoding\n",
        "\n",
        "    # Transformer block\n",
        "    transformer_block = layers.MultiHeadAttention(\n",
        "        num_heads=4, key_dim=64\n",
        "    )(embedded_with_pos, embedded_with_pos)\n",
        "\n",
        "    norm_transformer_block = layers.LayerNormalization(epsilon=1e-6)(transformer_block + embedded_with_pos)\n",
        "\n",
        "    # Feed Forward Network\n",
        "    ffn = layers.Dense(128, activation='relu')(norm_transformer_block)\n",
        "    ffn = layers.Dense(128)(ffn)\n",
        "    ffn = layers.Dropout(0.1)(ffn)\n",
        "    ffn_output = layers.LayerNormalization(epsilon=1e-6)(norm_transformer_block + ffn)\n",
        "\n",
        "    # Global pooling and output\n",
        "    pooled = layers.GlobalAveragePooling1D()(ffn_output)\n",
        "    dropout = layers.Dropout(0.1)(pooled)\n",
        "    outputs = layers.Dense(28, activation='sigmoid')(dropout)\n",
        "\n",
        "    model = Model(inputs=inputs, outputs=outputs)\n",
        "    return model\n",
        "\n",
        "\n",
        "# Create and compile the model\n",
        "model = create_transformer_model()\n",
        "model.compile(\n",
        "    optimizer=Adam(1e-4),\n",
        "    loss='binary_crossentropy',\n",
        "    metrics=['accuracy', AUC(multi_label=True)]\n",
        ")\n",
        "\n",
        "model.summary()"
      ],
      "metadata": {
        "id": "_aBvGDJBev2g"
      },
      "execution_count": 29,
      "outputs": []
    },
    {
      "cell_type": "code",
      "source": [
        "# Train the model\n",
        "callbacks = [\n",
        "    keras.callbacks.ModelCheckpoint(\"transformer.keras\", save_best_only=True),\n",
        "    keras.callbacks.EarlyStopping(patience=3, restore_best_weights=True),\n",
        "    keras.callbacks.ReduceLROnPlateau(patience=2, factor=0.2)\n",
        "]\n",
        "\n",
        "model.fit(train_ds_2, validation_data=val_ds_2, epochs=30,callbacks=callbacks)\n",
        "model = keras.models.load_model(\"transformer.keras\")\n",
        "print(f\"Test acc: {model.evaluate(test_ds_2)[1]:.3f}\")"
      ],
      "metadata": {
        "colab": {
          "base_uri": "https://localhost:8080/"
        },
        "id": "i067ePw6e0eE",
        "outputId": "43407b00-ae54-480f-e547-bba83f8820ec"
      },
      "execution_count": 30,
      "outputs": [
        {
          "output_type": "stream",
          "name": "stdout",
          "text": [
            "Epoch 1/30\n",
            "\u001b[1m875/875\u001b[0m \u001b[32m━━━━━━━━━━━━━━━━━━━━\u001b[0m\u001b[37m\u001b[0m \u001b[1m36s\u001b[0m 15ms/step - accuracy: 0.2172 - auc_5: 0.5002 - loss: 0.2127 - val_accuracy: 0.2600 - val_auc_5: 0.5048 - val_loss: 0.1574 - learning_rate: 1.0000e-04\n",
            "Epoch 2/30\n",
            "\u001b[1m875/875\u001b[0m \u001b[32m━━━━━━━━━━━━━━━━━━━━\u001b[0m\u001b[37m\u001b[0m \u001b[1m8s\u001b[0m 9ms/step - accuracy: 0.2603 - auc_5: 0.5010 - loss: 0.1604 - val_accuracy: 0.2600 - val_auc_5: 0.5351 - val_loss: 0.1569 - learning_rate: 1.0000e-04\n",
            "Epoch 3/30\n",
            "\u001b[1m875/875\u001b[0m \u001b[32m━━━━━━━━━━━━━━━━━━━━\u001b[0m\u001b[37m\u001b[0m \u001b[1m7s\u001b[0m 9ms/step - accuracy: 0.2617 - auc_5: 0.5149 - loss: 0.1592 - val_accuracy: 0.3041 - val_auc_5: 0.5954 - val_loss: 0.1501 - learning_rate: 1.0000e-04\n",
            "Epoch 4/30\n",
            "\u001b[1m875/875\u001b[0m \u001b[32m━━━━━━━━━━━━━━━━━━━━\u001b[0m\u001b[37m\u001b[0m \u001b[1m8s\u001b[0m 9ms/step - accuracy: 0.3221 - auc_5: 0.5957 - loss: 0.1483 - val_accuracy: 0.3517 - val_auc_5: 0.6700 - val_loss: 0.1404 - learning_rate: 1.0000e-04\n",
            "Epoch 5/30\n",
            "\u001b[1m875/875\u001b[0m \u001b[32m━━━━━━━━━━━━━━━━━━━━\u001b[0m\u001b[37m\u001b[0m \u001b[1m8s\u001b[0m 9ms/step - accuracy: 0.3576 - auc_5: 0.6662 - loss: 0.1402 - val_accuracy: 0.3647 - val_auc_5: 0.7165 - val_loss: 0.1360 - learning_rate: 1.0000e-04\n",
            "Epoch 6/30\n",
            "\u001b[1m875/875\u001b[0m \u001b[32m━━━━━━━━━━━━━━━━━━━━\u001b[0m\u001b[37m\u001b[0m \u001b[1m7s\u001b[0m 8ms/step - accuracy: 0.3661 - auc_5: 0.7166 - loss: 0.1353 - val_accuracy: 0.3705 - val_auc_5: 0.7377 - val_loss: 0.1328 - learning_rate: 1.0000e-04\n",
            "Epoch 7/30\n",
            "\u001b[1m875/875\u001b[0m \u001b[32m━━━━━━━━━━━━━━━━━━━━\u001b[0m\u001b[37m\u001b[0m \u001b[1m8s\u001b[0m 9ms/step - accuracy: 0.3746 - auc_5: 0.7442 - loss: 0.1317 - val_accuracy: 0.3755 - val_auc_5: 0.7544 - val_loss: 0.1310 - learning_rate: 1.0000e-04\n",
            "Epoch 8/30\n",
            "\u001b[1m875/875\u001b[0m \u001b[32m━━━━━━━━━━━━━━━━━━━━\u001b[0m\u001b[37m\u001b[0m \u001b[1m7s\u001b[0m 8ms/step - accuracy: 0.3805 - auc_5: 0.7664 - loss: 0.1290 - val_accuracy: 0.3801 - val_auc_5: 0.7682 - val_loss: 0.1292 - learning_rate: 1.0000e-04\n",
            "Epoch 9/30\n",
            "\u001b[1m875/875\u001b[0m \u001b[32m━━━━━━━━━━━━━━━━━━━━\u001b[0m\u001b[37m\u001b[0m \u001b[1m8s\u001b[0m 9ms/step - accuracy: 0.3865 - auc_5: 0.7828 - loss: 0.1266 - val_accuracy: 0.3842 - val_auc_5: 0.7786 - val_loss: 0.1280 - learning_rate: 1.0000e-04\n",
            "Epoch 10/30\n",
            "\u001b[1m875/875\u001b[0m \u001b[32m━━━━━━━━━━━━━━━━━━━━\u001b[0m\u001b[37m\u001b[0m \u001b[1m7s\u001b[0m 9ms/step - accuracy: 0.3919 - auc_5: 0.7957 - loss: 0.1248 - val_accuracy: 0.3880 - val_auc_5: 0.7866 - val_loss: 0.1269 - learning_rate: 1.0000e-04\n",
            "Epoch 11/30\n",
            "\u001b[1m875/875\u001b[0m \u001b[32m━━━━━━━━━━━━━━━━━━━━\u001b[0m\u001b[37m\u001b[0m \u001b[1m8s\u001b[0m 9ms/step - accuracy: 0.3937 - auc_5: 0.8050 - loss: 0.1235 - val_accuracy: 0.3897 - val_auc_5: 0.7909 - val_loss: 0.1263 - learning_rate: 1.0000e-04\n",
            "Epoch 12/30\n",
            "\u001b[1m875/875\u001b[0m \u001b[32m━━━━━━━━━━━━━━━━━━━━\u001b[0m\u001b[37m\u001b[0m \u001b[1m7s\u001b[0m 9ms/step - accuracy: 0.3962 - auc_5: 0.8112 - loss: 0.1223 - val_accuracy: 0.3910 - val_auc_5: 0.7953 - val_loss: 0.1256 - learning_rate: 1.0000e-04\n",
            "Epoch 13/30\n",
            "\u001b[1m875/875\u001b[0m \u001b[32m━━━━━━━━━━━━━━━━━━━━\u001b[0m\u001b[37m\u001b[0m \u001b[1m7s\u001b[0m 9ms/step - accuracy: 0.3992 - auc_5: 0.8198 - loss: 0.1210 - val_accuracy: 0.3928 - val_auc_5: 0.8001 - val_loss: 0.1250 - learning_rate: 1.0000e-04\n",
            "Epoch 14/30\n",
            "\u001b[1m875/875\u001b[0m \u001b[32m━━━━━━━━━━━━━━━━━━━━\u001b[0m\u001b[37m\u001b[0m \u001b[1m8s\u001b[0m 9ms/step - accuracy: 0.4006 - auc_5: 0.8252 - loss: 0.1200 - val_accuracy: 0.3939 - val_auc_5: 0.8022 - val_loss: 0.1245 - learning_rate: 1.0000e-04\n",
            "Epoch 15/30\n",
            "\u001b[1m875/875\u001b[0m \u001b[32m━━━━━━━━━━━━━━━━━━━━\u001b[0m\u001b[37m\u001b[0m \u001b[1m8s\u001b[0m 9ms/step - accuracy: 0.4049 - auc_5: 0.8318 - loss: 0.1189 - val_accuracy: 0.3949 - val_auc_5: 0.8050 - val_loss: 0.1241 - learning_rate: 1.0000e-04\n",
            "Epoch 16/30\n",
            "\u001b[1m875/875\u001b[0m \u001b[32m━━━━━━━━━━━━━━━━━━━━\u001b[0m\u001b[37m\u001b[0m \u001b[1m8s\u001b[0m 9ms/step - accuracy: 0.4077 - auc_5: 0.8362 - loss: 0.1180 - val_accuracy: 0.3941 - val_auc_5: 0.8069 - val_loss: 0.1240 - learning_rate: 1.0000e-04\n",
            "Epoch 17/30\n",
            "\u001b[1m875/875\u001b[0m \u001b[32m━━━━━━━━━━━━━━━━━━━━\u001b[0m\u001b[37m\u001b[0m \u001b[1m8s\u001b[0m 9ms/step - accuracy: 0.4116 - auc_5: 0.8418 - loss: 0.1168 - val_accuracy: 0.3933 - val_auc_5: 0.8085 - val_loss: 0.1239 - learning_rate: 1.0000e-04\n",
            "Epoch 18/30\n",
            "\u001b[1m875/875\u001b[0m \u001b[32m━━━━━━━━━━━━━━━━━━━━\u001b[0m\u001b[37m\u001b[0m \u001b[1m8s\u001b[0m 9ms/step - accuracy: 0.4156 - auc_5: 0.8457 - loss: 0.1159 - val_accuracy: 0.3915 - val_auc_5: 0.8104 - val_loss: 0.1239 - learning_rate: 1.0000e-04\n",
            "Epoch 19/30\n",
            "\u001b[1m875/875\u001b[0m \u001b[32m━━━━━━━━━━━━━━━━━━━━\u001b[0m\u001b[37m\u001b[0m \u001b[1m8s\u001b[0m 9ms/step - accuracy: 0.4226 - auc_5: 0.8533 - loss: 0.1143 - val_accuracy: 0.3912 - val_auc_5: 0.8122 - val_loss: 0.1234 - learning_rate: 2.0000e-05\n",
            "Epoch 20/30\n",
            "\u001b[1m875/875\u001b[0m \u001b[32m━━━━━━━━━━━━━━━━━━━━\u001b[0m\u001b[37m\u001b[0m \u001b[1m7s\u001b[0m 8ms/step - accuracy: 0.4227 - auc_5: 0.8534 - loss: 0.1140 - val_accuracy: 0.3904 - val_auc_5: 0.8120 - val_loss: 0.1235 - learning_rate: 2.0000e-05\n",
            "Epoch 21/30\n",
            "\u001b[1m875/875\u001b[0m \u001b[32m━━━━━━━━━━━━━━━━━━━━\u001b[0m\u001b[37m\u001b[0m \u001b[1m7s\u001b[0m 8ms/step - accuracy: 0.4240 - auc_5: 0.8550 - loss: 0.1138 - val_accuracy: 0.3904 - val_auc_5: 0.8122 - val_loss: 0.1235 - learning_rate: 2.0000e-05\n",
            "Epoch 22/30\n",
            "\u001b[1m875/875\u001b[0m \u001b[32m━━━━━━━━━━━━━━━━━━━━\u001b[0m\u001b[37m\u001b[0m \u001b[1m7s\u001b[0m 8ms/step - accuracy: 0.4271 - auc_5: 0.8583 - loss: 0.1132 - val_accuracy: 0.3896 - val_auc_5: 0.8120 - val_loss: 0.1235 - learning_rate: 4.0000e-06\n",
            "\u001b[1m557/557\u001b[0m \u001b[32m━━━━━━━━━━━━━━━━━━━━\u001b[0m\u001b[37m\u001b[0m \u001b[1m8s\u001b[0m 11ms/step - accuracy: 0.3956 - auc_5: 0.8138 - loss: 0.1228\n",
            "Test acc: 0.393\n"
          ]
        }
      ]
    },
    {
      "cell_type": "code",
      "source": [
        "model.save(\"emotions_transformer_model.h5\")\n",
        "\n",
        "import json\n",
        "\n",
        "# Get config\n",
        "config = vectorize_layer.get_config()\n",
        "\n",
        "# Get vocabulary\n",
        "vocab = vectorize_layer.get_vocabulary()\n",
        "\n",
        "# Save config to JSON\n",
        "with open(\"emotions_transformer_text_vectorization_config.json\", \"w\") as f:\n",
        "    json.dump(config, f)\n",
        "\n",
        "# Save vocabulary to plain text or JSON\n",
        "with open(\"emotions_transformer_text_vectorization_vocab.json\", \"w\") as f:\n",
        "    json.dump(vocab, f)"
      ],
      "metadata": {
        "colab": {
          "base_uri": "https://localhost:8080/"
        },
        "id": "Nm_LvAS_YqZH",
        "outputId": "3860f988-a861-4367-c53d-d5832878e7ca"
      },
      "execution_count": 33,
      "outputs": [
        {
          "output_type": "stream",
          "name": "stderr",
          "text": [
            "WARNING:absl:You are saving your model as an HDF5 file via `model.save()` or `keras.saving.save_model(model)`. This file format is considered legacy. We recommend using instead the native Keras format, e.g. `model.save('my_model.keras')` or `keras.saving.save_model(model, 'my_model.keras')`. \n"
          ]
        }
      ]
    },
    {
      "cell_type": "markdown",
      "source": [
        "### Transformer: Test inference"
      ],
      "metadata": {
        "id": "IosHbl2P768Q"
      }
    },
    {
      "cell_type": "code",
      "source": [
        "inputs = keras.Input(shape=(1,), dtype=\"string\")\n",
        "processed_inputs = vectorize_layer(inputs)\n",
        "outputs = model(processed_inputs)\n",
        "inference_model = keras.Model(inputs, outputs)\n",
        "\n",
        "import tensorflow as tf\n",
        "raw_text_data = tf.convert_to_tensor([\n",
        "    [\"I’m overflowing with pure joy and gratitude today—the sun is shining, my heart is light, every moment feels magical, and I can’t stop smiling! Life is beautiful, full of kindness, laughter, and endless possibility. Everything feels right, and I’m so excited for what’s ahead. Happiness is absolutely everywhere!\"],\n",
        "])\n",
        "\n",
        "predictions = inference_model(raw_text_data)\n",
        "\n",
        "emotion_labels = [\n",
        "    \"admiration\", \"amusement\", \"anger\", \"annoyance\", \"approval\", \"caring\", \"confusion\",\n",
        "    \"curiosity\", \"desire\", \"disappointment\", \"disapproval\", \"disgust\", \"embarrassment\",\n",
        "    \"excitement\", \"fear\", \"gratitude\", \"grief\", \"joy\", \"love\", \"nervousness\",\n",
        "    \"optimism\", \"pride\", \"realization\", \"relief\", \"remorse\", \"sadness\", \"surprise\", \"neutral\"\n",
        "]\n",
        "\n",
        "for label, prob in zip(emotion_labels, predictions[0]):\n",
        "    print(f\"{label:15}: {float(prob) * 100:.2f}%\")\n"
      ],
      "metadata": {
        "id": "u1EgeE5YeyJW",
        "colab": {
          "base_uri": "https://localhost:8080/"
        },
        "outputId": "4e0ceb65-19ac-40f7-a40d-7e973c4b0d25"
      },
      "execution_count": 35,
      "outputs": [
        {
          "output_type": "stream",
          "name": "stdout",
          "text": [
            "admiration     : 6.50%\n",
            "amusement      : 6.21%\n",
            "anger          : 2.33%\n",
            "annoyance      : 6.33%\n",
            "approval       : 5.99%\n",
            "caring         : 0.76%\n",
            "confusion      : 0.03%\n",
            "curiosity      : 0.04%\n",
            "desire         : 0.15%\n",
            "disappointment : 2.60%\n",
            "disapproval    : 3.73%\n",
            "disgust        : 2.30%\n",
            "embarrassment  : 0.21%\n",
            "excitement     : 0.87%\n",
            "fear           : 0.92%\n",
            "gratitude      : 0.62%\n",
            "grief          : 0.19%\n",
            "joy            : 10.79%\n",
            "love           : 1.77%\n",
            "nervousness    : 0.22%\n",
            "optimism       : 0.21%\n",
            "pride          : 0.18%\n",
            "realization    : 0.85%\n",
            "relief         : 0.72%\n",
            "remorse        : 0.06%\n",
            "sadness        : 2.50%\n",
            "surprise       : 0.23%\n",
            "neutral        : 41.18%\n"
          ]
        }
      ]
    },
    {
      "cell_type": "markdown",
      "source": [
        "## BERT"
      ],
      "metadata": {
        "id": "w1lqnYWE1JyF"
      }
    },
    {
      "cell_type": "code",
      "source": [
        "import keras_nlp\n",
        "import tensorflow as tf\n",
        "\n",
        "# Parameters\n",
        "sequence_length = 128\n",
        "bert_preset = \"bert_base_en\"\n",
        "\n",
        "# Load preprocessor\n",
        "preprocessor = keras_nlp.models.BertPreprocessor.from_preset(\n",
        "    bert_preset,\n",
        "    sequence_length=sequence_length\n",
        ")"
      ],
      "metadata": {
        "colab": {
          "base_uri": "https://localhost:8080/"
        },
        "id": "ueBVEHF54Isc",
        "outputId": "4d0ed7ad-86d6-4402-b736-3e0d5ca453a3"
      },
      "execution_count": 26,
      "outputs": [
        {
          "output_type": "stream",
          "name": "stdout",
          "text": [
            "Downloading from https://www.kaggle.com/api/v1/models/keras/bert/keras/bert_base_en/2/download/config.json...\n"
          ]
        },
        {
          "output_type": "stream",
          "name": "stderr",
          "text": [
            "100%|██████████| 510/510 [00:00<00:00, 909kB/s]\n"
          ]
        },
        {
          "output_type": "stream",
          "name": "stdout",
          "text": [
            "Downloading from https://www.kaggle.com/api/v1/models/keras/bert/keras/bert_base_en/2/download/tokenizer.json...\n"
          ]
        },
        {
          "output_type": "stream",
          "name": "stderr",
          "text": [
            "100%|██████████| 548/548 [00:00<00:00, 1.06MB/s]\n"
          ]
        },
        {
          "output_type": "stream",
          "name": "stdout",
          "text": [
            "Downloading from https://www.kaggle.com/api/v1/models/keras/bert/keras/bert_base_en/2/download/assets/tokenizer/vocabulary.txt...\n"
          ]
        },
        {
          "output_type": "stream",
          "name": "stderr",
          "text": [
            "100%|██████████| 208k/208k [00:00<00:00, 276kB/s]\n",
            "WARNING:tensorflow:From <ipython-input-26-5078ce7fe22b>:38: save (from tensorflow.python.data.experimental.ops.io) is deprecated and will be removed in a future version.\n",
            "Instructions for updating:\n",
            "Use `tf.data.Dataset.save(...)` instead.\n"
          ]
        }
      ]
    },
    {
      "cell_type": "code",
      "source": [
        "train_ds_3 = (\n",
        "    tf.data.Dataset.from_tensor_slices((train_ds['text'].values, train_ds.drop(columns=['text']).values))\n",
        "    .batch(128)\n",
        "    .map(lambda x, y: (preprocessor(x), y))\n",
        "    .prefetch(AUTOTUNE)\n",
        ")\n",
        "\n",
        "val_ds_3 = (\n",
        "    tf.data.Dataset.from_tensor_slices((val_ds['text'].values, val_ds.drop(columns=['text']).values))\n",
        "    .batch(128)\n",
        "    .map(lambda x, y: (preprocessor(x), y))\n",
        "    .prefetch(AUTOTUNE)\n",
        ")\n",
        "\n",
        "test_ds_3 = (\n",
        "    tf.data.Dataset.from_tensor_slices((test_ds['text'].values, test_ds.drop(columns=['text']).values))\n",
        "    .batch(128)\n",
        "    .map(lambda x, y: (preprocessor(x), y))\n",
        "    .prefetch(AUTOTUNE)\n",
        ")"
      ],
      "metadata": {
        "id": "lqs4QnGgaKuD"
      },
      "execution_count": 33,
      "outputs": []
    },
    {
      "cell_type": "code",
      "source": [
        "# Parameters\n",
        "sequence_length = 128\n",
        "bert_preset = \"bert_base_en\"\n",
        "\n",
        "# Load BERT backbone\n",
        "bert_backbone = keras_nlp.models.BertBackbone.from_preset(bert_preset)\n",
        "bert_backbone.trainable = False  # freeze\n",
        "\n",
        "# Input\n",
        "text_input = keras.Input(shape=(), dtype=tf.string, name=\"text\")\n",
        "\n",
        "# This input layer is a placeholder to match tokenized structure\n",
        "token_ids = keras.Input(shape=(sequence_length,), dtype=tf.int32, name=\"token_ids\")\n",
        "segment_ids = keras.Input(shape=(sequence_length,), dtype=tf.int32, name=\"segment_ids\")\n",
        "padding_mask = keras.Input(shape=(sequence_length,), dtype=tf.int32, name=\"padding_mask\")\n",
        "\n",
        "# Pass through frozen BERT encoder\n",
        "encoder_output = bert_backbone({\n",
        "    \"token_ids\": token_ids,\n",
        "    \"segment_ids\": segment_ids,\n",
        "    \"padding_mask\": padding_mask\n",
        "})\n",
        "cls_output = encoder_output[\"pooled_output\"]\n",
        "\n",
        "# Classification head\n",
        "output = layers.Dense(28, activation=\"sigmoid\", name=\"classifier\")(cls_output)\n",
        "\n",
        "# Model\n",
        "model = keras.Model(\n",
        "    inputs={\"token_ids\": token_ids, \"segment_ids\": segment_ids, \"padding_mask\": padding_mask},\n",
        "    outputs=output\n",
        ")\n",
        "\n",
        "# Compile\n",
        "model.compile(\n",
        "    optimizer=keras.optimizers.Adam(learning_rate=1e-3),\n",
        "    loss=\"binary_crossentropy\",\n",
        "    metrics=[\"accuracy\", AUC(multi_label=True)]\n",
        ")\n",
        "\n",
        "# Callbacks\n",
        "callbacks = [\n",
        "    keras.callbacks.ModelCheckpoint(\"bert_frozen_classifier.keras\", save_best_only=True)\n",
        "]\n",
        "\n",
        "model.summary()"
      ],
      "metadata": {
        "colab": {
          "base_uri": "https://localhost:8080/",
          "height": 380
        },
        "id": "4AqzCKXx4aUa",
        "outputId": "2dc8d597-53ea-41b1-bdbc-22572d156313"
      },
      "execution_count": 34,
      "outputs": [
        {
          "output_type": "display_data",
          "data": {
            "text/plain": [
              "\u001b[1mModel: \"functional_6\"\u001b[0m\n"
            ],
            "text/html": [
              "<pre style=\"white-space:pre;overflow-x:auto;line-height:normal;font-family:Menlo,'DejaVu Sans Mono',consolas,'Courier New',monospace\"><span style=\"font-weight: bold\">Model: \"functional_6\"</span>\n",
              "</pre>\n"
            ]
          },
          "metadata": {}
        },
        {
          "output_type": "display_data",
          "data": {
            "text/plain": [
              "┏━━━━━━━━━━━━━━━━━━━━━┳━━━━━━━━━━━━━━━━━━━┳━━━━━━━━━━━━┳━━━━━━━━━━━━━━━━━━━┓\n",
              "┃\u001b[1m \u001b[0m\u001b[1mLayer (type)       \u001b[0m\u001b[1m \u001b[0m┃\u001b[1m \u001b[0m\u001b[1mOutput Shape     \u001b[0m\u001b[1m \u001b[0m┃\u001b[1m \u001b[0m\u001b[1m   Param #\u001b[0m\u001b[1m \u001b[0m┃\u001b[1m \u001b[0m\u001b[1mConnected to     \u001b[0m\u001b[1m \u001b[0m┃\n",
              "┡━━━━━━━━━━━━━━━━━━━━━╇━━━━━━━━━━━━━━━━━━━╇━━━━━━━━━━━━╇━━━━━━━━━━━━━━━━━━━┩\n",
              "│ padding_mask        │ (\u001b[38;5;45mNone\u001b[0m, \u001b[38;5;34m128\u001b[0m)       │          \u001b[38;5;34m0\u001b[0m │ -                 │\n",
              "│ (\u001b[38;5;33mInputLayer\u001b[0m)        │                   │            │                   │\n",
              "├─────────────────────┼───────────────────┼────────────┼───────────────────┤\n",
              "│ segment_ids         │ (\u001b[38;5;45mNone\u001b[0m, \u001b[38;5;34m128\u001b[0m)       │          \u001b[38;5;34m0\u001b[0m │ -                 │\n",
              "│ (\u001b[38;5;33mInputLayer\u001b[0m)        │                   │            │                   │\n",
              "├─────────────────────┼───────────────────┼────────────┼───────────────────┤\n",
              "│ token_ids           │ (\u001b[38;5;45mNone\u001b[0m, \u001b[38;5;34m128\u001b[0m)       │          \u001b[38;5;34m0\u001b[0m │ -                 │\n",
              "│ (\u001b[38;5;33mInputLayer\u001b[0m)        │                   │            │                   │\n",
              "├─────────────────────┼───────────────────┼────────────┼───────────────────┤\n",
              "│ bert_backbone       │ [(\u001b[38;5;45mNone\u001b[0m, \u001b[38;5;34m768\u001b[0m),     │ \u001b[38;5;34m108,310,2…\u001b[0m │ padding_mask[\u001b[38;5;34m0\u001b[0m][\u001b[38;5;34m…\u001b[0m │\n",
              "│ (\u001b[38;5;33mBertBackbone\u001b[0m)      │ (\u001b[38;5;45mNone\u001b[0m, \u001b[38;5;34m128\u001b[0m, \u001b[38;5;34m768\u001b[0m)] │            │ segment_ids[\u001b[38;5;34m0\u001b[0m][\u001b[38;5;34m0\u001b[0m… │\n",
              "│                     │                   │            │ token_ids[\u001b[38;5;34m0\u001b[0m][\u001b[38;5;34m0\u001b[0m]   │\n",
              "├─────────────────────┼───────────────────┼────────────┼───────────────────┤\n",
              "│ classifier (\u001b[38;5;33mDense\u001b[0m)  │ (\u001b[38;5;45mNone\u001b[0m, \u001b[38;5;34m28\u001b[0m)        │     \u001b[38;5;34m21,532\u001b[0m │ bert_backbone[\u001b[38;5;34m0\u001b[0m]… │\n",
              "└─────────────────────┴───────────────────┴────────────┴───────────────────┘\n"
            ],
            "text/html": [
              "<pre style=\"white-space:pre;overflow-x:auto;line-height:normal;font-family:Menlo,'DejaVu Sans Mono',consolas,'Courier New',monospace\">┏━━━━━━━━━━━━━━━━━━━━━┳━━━━━━━━━━━━━━━━━━━┳━━━━━━━━━━━━┳━━━━━━━━━━━━━━━━━━━┓\n",
              "┃<span style=\"font-weight: bold\"> Layer (type)        </span>┃<span style=\"font-weight: bold\"> Output Shape      </span>┃<span style=\"font-weight: bold\">    Param # </span>┃<span style=\"font-weight: bold\"> Connected to      </span>┃\n",
              "┡━━━━━━━━━━━━━━━━━━━━━╇━━━━━━━━━━━━━━━━━━━╇━━━━━━━━━━━━╇━━━━━━━━━━━━━━━━━━━┩\n",
              "│ padding_mask        │ (<span style=\"color: #00d7ff; text-decoration-color: #00d7ff\">None</span>, <span style=\"color: #00af00; text-decoration-color: #00af00\">128</span>)       │          <span style=\"color: #00af00; text-decoration-color: #00af00\">0</span> │ -                 │\n",
              "│ (<span style=\"color: #0087ff; text-decoration-color: #0087ff\">InputLayer</span>)        │                   │            │                   │\n",
              "├─────────────────────┼───────────────────┼────────────┼───────────────────┤\n",
              "│ segment_ids         │ (<span style=\"color: #00d7ff; text-decoration-color: #00d7ff\">None</span>, <span style=\"color: #00af00; text-decoration-color: #00af00\">128</span>)       │          <span style=\"color: #00af00; text-decoration-color: #00af00\">0</span> │ -                 │\n",
              "│ (<span style=\"color: #0087ff; text-decoration-color: #0087ff\">InputLayer</span>)        │                   │            │                   │\n",
              "├─────────────────────┼───────────────────┼────────────┼───────────────────┤\n",
              "│ token_ids           │ (<span style=\"color: #00d7ff; text-decoration-color: #00d7ff\">None</span>, <span style=\"color: #00af00; text-decoration-color: #00af00\">128</span>)       │          <span style=\"color: #00af00; text-decoration-color: #00af00\">0</span> │ -                 │\n",
              "│ (<span style=\"color: #0087ff; text-decoration-color: #0087ff\">InputLayer</span>)        │                   │            │                   │\n",
              "├─────────────────────┼───────────────────┼────────────┼───────────────────┤\n",
              "│ bert_backbone       │ [(<span style=\"color: #00d7ff; text-decoration-color: #00d7ff\">None</span>, <span style=\"color: #00af00; text-decoration-color: #00af00\">768</span>),     │ <span style=\"color: #00af00; text-decoration-color: #00af00\">108,310,2…</span> │ padding_mask[<span style=\"color: #00af00; text-decoration-color: #00af00\">0</span>][<span style=\"color: #00af00; text-decoration-color: #00af00\">…</span> │\n",
              "│ (<span style=\"color: #0087ff; text-decoration-color: #0087ff\">BertBackbone</span>)      │ (<span style=\"color: #00d7ff; text-decoration-color: #00d7ff\">None</span>, <span style=\"color: #00af00; text-decoration-color: #00af00\">128</span>, <span style=\"color: #00af00; text-decoration-color: #00af00\">768</span>)] │            │ segment_ids[<span style=\"color: #00af00; text-decoration-color: #00af00\">0</span>][<span style=\"color: #00af00; text-decoration-color: #00af00\">0</span>… │\n",
              "│                     │                   │            │ token_ids[<span style=\"color: #00af00; text-decoration-color: #00af00\">0</span>][<span style=\"color: #00af00; text-decoration-color: #00af00\">0</span>]   │\n",
              "├─────────────────────┼───────────────────┼────────────┼───────────────────┤\n",
              "│ classifier (<span style=\"color: #0087ff; text-decoration-color: #0087ff\">Dense</span>)  │ (<span style=\"color: #00d7ff; text-decoration-color: #00d7ff\">None</span>, <span style=\"color: #00af00; text-decoration-color: #00af00\">28</span>)        │     <span style=\"color: #00af00; text-decoration-color: #00af00\">21,532</span> │ bert_backbone[<span style=\"color: #00af00; text-decoration-color: #00af00\">0</span>]… │\n",
              "└─────────────────────┴───────────────────┴────────────┴───────────────────┘\n",
              "</pre>\n"
            ]
          },
          "metadata": {}
        },
        {
          "output_type": "display_data",
          "data": {
            "text/plain": [
              "\u001b[1m Total params: \u001b[0m\u001b[38;5;34m108,331,804\u001b[0m (413.25 MB)\n"
            ],
            "text/html": [
              "<pre style=\"white-space:pre;overflow-x:auto;line-height:normal;font-family:Menlo,'DejaVu Sans Mono',consolas,'Courier New',monospace\"><span style=\"font-weight: bold\"> Total params: </span><span style=\"color: #00af00; text-decoration-color: #00af00\">108,331,804</span> (413.25 MB)\n",
              "</pre>\n"
            ]
          },
          "metadata": {}
        },
        {
          "output_type": "display_data",
          "data": {
            "text/plain": [
              "\u001b[1m Trainable params: \u001b[0m\u001b[38;5;34m21,532\u001b[0m (84.11 KB)\n"
            ],
            "text/html": [
              "<pre style=\"white-space:pre;overflow-x:auto;line-height:normal;font-family:Menlo,'DejaVu Sans Mono',consolas,'Courier New',monospace\"><span style=\"font-weight: bold\"> Trainable params: </span><span style=\"color: #00af00; text-decoration-color: #00af00\">21,532</span> (84.11 KB)\n",
              "</pre>\n"
            ]
          },
          "metadata": {}
        },
        {
          "output_type": "display_data",
          "data": {
            "text/plain": [
              "\u001b[1m Non-trainable params: \u001b[0m\u001b[38;5;34m108,310,272\u001b[0m (413.17 MB)\n"
            ],
            "text/html": [
              "<pre style=\"white-space:pre;overflow-x:auto;line-height:normal;font-family:Menlo,'DejaVu Sans Mono',consolas,'Courier New',monospace\"><span style=\"font-weight: bold\"> Non-trainable params: </span><span style=\"color: #00af00; text-decoration-color: #00af00\">108,310,272</span> (413.17 MB)\n",
              "</pre>\n"
            ]
          },
          "metadata": {}
        }
      ]
    },
    {
      "cell_type": "code",
      "source": [
        "model.fit(\n",
        "    train_ds_3,\n",
        "    validation_data=val_ds_3,\n",
        "    epochs=5,\n",
        "    callbacks=callbacks\n",
        ")\n",
        "\n",
        "# Evaluate\n",
        "model = keras.models.load_model(\"bert_frozen_classifier.keras\", safe_mode=False)\n",
        "print(f\"Test acc: {model.evaluate(test_ds_3)[1]:.3f}\")"
      ],
      "metadata": {
        "colab": {
          "base_uri": "https://localhost:8080/"
        },
        "id": "hUxlr709bWEc",
        "outputId": "e5334647-5750-457e-c5f0-3b75822ff619"
      },
      "execution_count": 35,
      "outputs": [
        {
          "output_type": "stream",
          "name": "stdout",
          "text": [
            "Epoch 1/5\n",
            "\u001b[1m875/875\u001b[0m \u001b[32m━━━━━━━━━━━━━━━━━━━━\u001b[0m\u001b[37m\u001b[0m \u001b[1m312s\u001b[0m 318ms/step - accuracy: 0.2591 - auc_4: 0.5491 - loss: 0.1647 - val_accuracy: 0.2843 - val_auc_4: 0.6913 - val_loss: 0.1493\n",
            "Epoch 2/5\n",
            "\u001b[1m875/875\u001b[0m \u001b[32m━━━━━━━━━━━━━━━━━━━━\u001b[0m\u001b[37m\u001b[0m \u001b[1m271s\u001b[0m 309ms/step - accuracy: 0.2879 - auc_4: 0.6546 - loss: 0.1479 - val_accuracy: 0.2943 - val_auc_4: 0.7203 - val_loss: 0.1457\n",
            "Epoch 3/5\n",
            "\u001b[1m875/875\u001b[0m \u001b[32m━━━━━━━━━━━━━━━━━━━━\u001b[0m\u001b[37m\u001b[0m \u001b[1m270s\u001b[0m 309ms/step - accuracy: 0.2944 - auc_4: 0.6835 - loss: 0.1449 - val_accuracy: 0.3008 - val_auc_4: 0.7348 - val_loss: 0.1436\n",
            "Epoch 4/5\n",
            "\u001b[1m875/875\u001b[0m \u001b[32m━━━━━━━━━━━━━━━━━━━━\u001b[0m\u001b[37m\u001b[0m \u001b[1m270s\u001b[0m 309ms/step - accuracy: 0.2971 - auc_4: 0.6991 - loss: 0.1433 - val_accuracy: 0.3055 - val_auc_4: 0.7434 - val_loss: 0.1423\n",
            "Epoch 5/5\n",
            "\u001b[1m875/875\u001b[0m \u001b[32m━━━━━━━━━━━━━━━━━━━━\u001b[0m\u001b[37m\u001b[0m \u001b[1m271s\u001b[0m 309ms/step - accuracy: 0.2995 - auc_4: 0.7097 - loss: 0.1421 - val_accuracy: 0.3056 - val_auc_4: 0.7505 - val_loss: 0.1416\n",
            "\u001b[1m557/557\u001b[0m \u001b[32m━━━━━━━━━━━━━━━━━━━━\u001b[0m\u001b[37m\u001b[0m \u001b[1m136s\u001b[0m 233ms/step - accuracy: 0.3056 - auc_4: 0.7516 - loss: 0.1407\n",
            "Test acc: 0.307\n"
          ]
        }
      ]
    },
    {
      "cell_type": "code",
      "source": [
        "model.save(\"bert_model.h5\")"
      ],
      "metadata": {
        "colab": {
          "base_uri": "https://localhost:8080/"
        },
        "id": "47FDnzUTgd3O",
        "outputId": "19605554-57ae-41ac-bad1-48d593dc06a9"
      },
      "execution_count": 36,
      "outputs": [
        {
          "output_type": "stream",
          "name": "stderr",
          "text": [
            "WARNING:absl:You are saving your model as an HDF5 file via `model.save()` or `keras.saving.save_model(model)`. This file format is considered legacy. We recommend using instead the native Keras format, e.g. `model.save('my_model.keras')` or `keras.saving.save_model(model, 'my_model.keras')`. \n"
          ]
        }
      ]
    },
    {
      "cell_type": "code",
      "source": [
        "# Get config\n",
        "config = preprocessor.get_config()\n",
        "\n",
        "# Save config to JSON\n",
        "with open(\"bert_text_vectorization_emotions_config.json\", \"w\") as f:\n",
        "    json.dump(config, f)"
      ],
      "metadata": {
        "id": "prSYZA-Tgaob"
      },
      "execution_count": 38,
      "outputs": []
    },
    {
      "cell_type": "markdown",
      "source": [
        "### BERT: Test inference"
      ],
      "metadata": {
        "id": "5mBjKC1l8V5g"
      }
    },
    {
      "cell_type": "code",
      "source": [
        "inputs = keras.Input(shape=(1,), dtype=\"string\")\n",
        "processed_inputs = text_vectorization(inputs)\n",
        "outputs = model(processed_inputs)\n",
        "inference_model = keras.Model(inputs, outputs)\n",
        "\n",
        "import tensorflow as tf\n",
        "raw_text_data = tf.convert_to_tensor([\n",
        "    [\"I’m overflowing with pure joy and gratitude today—the sun is shining, my heart is light, every moment feels magical, and I can’t stop smiling! Life is beautiful, full of kindness, laughter, and endless possibility. Everything feels right, and I’m so excited for what’s ahead. Happiness is absolutely everywhere!\"],\n",
        "])\n",
        "\n",
        "predictions = inference_model(raw_text_data)\n",
        "\n",
        "emotion_labels = [\n",
        "    \"admiration\", \"amusement\", \"anger\", \"annoyance\", \"approval\", \"caring\", \"confusion\",\n",
        "    \"curiosity\", \"desire\", \"disappointment\", \"disapproval\", \"disgust\", \"embarrassment\",\n",
        "    \"excitement\", \"fear\", \"gratitude\", \"grief\", \"joy\", \"love\", \"nervousness\",\n",
        "    \"optimism\", \"pride\", \"realization\", \"relief\", \"remorse\", \"sadness\", \"surprise\", \"neutral\"\n",
        "]\n",
        "\n",
        "for label, prob in zip(emotion_labels, predictions[0]):\n",
        "    print(f\"{label:15}: {float(prob) * 100:.2f}%\")\n"
      ],
      "metadata": {
        "id": "XWFXBaKm5uy6"
      },
      "execution_count": null,
      "outputs": []
    }
  ]
}